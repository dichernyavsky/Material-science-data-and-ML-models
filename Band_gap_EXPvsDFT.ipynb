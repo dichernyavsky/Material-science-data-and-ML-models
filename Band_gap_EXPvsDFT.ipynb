{
 "cells": [
  {
   "cell_type": "markdown",
   "metadata": {},
   "source": [
    "# Experimental band gap prediction with the use of DFT data\n",
    "In this notebook we are going to predict experimental  band gaps from  [Zhau et al.](https://pubs.acs.org/doi/10.1021/acs.jpclett.8b00124) using DFT band gap data from the OQMD database. "
   ]
  },
  {
   "cell_type": "code",
   "execution_count": 83,
   "metadata": {},
   "outputs": [],
   "source": [
    "%matplotlib inline\n",
    "from matminer.featurizers.base import MultipleFeaturizer\n",
    "from matminer.featurizers import composition as cf\n",
    "from matminer.featurizers.conversions import StrToComposition\n",
    "from matplotlib import pyplot as plt\n",
    "from matplotlib.colors import LogNorm\n",
    "import numpy as np\n",
    "import pandas as pd\n",
    "from sklearn import metrics\n",
    "from sklearn.model_selection import cross_val_score, cross_val_predict, GridSearchCV, ShuffleSplit, KFold\n",
    "\n",
    "import sklearn.linear_model as linear_model\n",
    "from sklearn import preprocessing\n",
    "from sklearn.preprocessing import StandardScaler\n",
    "\n",
    "\n",
    "import warnings\n",
    "warnings.filterwarnings('ignore')"
   ]
  },
  {
   "cell_type": "markdown",
   "metadata": {},
   "source": [
    "## Adding band gap data from the OQMD database.\n",
    "\n",
    "The aim of this part of the notebook is to add DFT band gap values to the dataset. The result is already saved in the file band_gaps_OQMD.csv and one may skip this part of the notebook if he is not interested on how to make queries to the OQMD database."
   ]
  },
  {
   "cell_type": "code",
   "execution_count": 239,
   "metadata": {},
   "outputs": [],
   "source": [
    "data = pd.read_csv(\"/home/dima/Desktop/ML/Data/reworked_data_bandgap.csv\")"
   ]
  },
  {
   "cell_type": "code",
   "execution_count": 240,
   "metadata": {},
   "outputs": [
    {
     "data": {
      "text/html": [
       "<div>\n",
       "<style scoped>\n",
       "    .dataframe tbody tr th:only-of-type {\n",
       "        vertical-align: middle;\n",
       "    }\n",
       "\n",
       "    .dataframe tbody tr th {\n",
       "        vertical-align: top;\n",
       "    }\n",
       "\n",
       "    .dataframe thead th {\n",
       "        text-align: right;\n",
       "    }\n",
       "</style>\n",
       "<table border=\"1\" class=\"dataframe\">\n",
       "  <thead>\n",
       "    <tr style=\"text-align: right;\">\n",
       "      <th></th>\n",
       "      <th>composition</th>\n",
       "      <th>E</th>\n",
       "    </tr>\n",
       "  </thead>\n",
       "  <tbody>\n",
       "    <tr>\n",
       "      <th>0</th>\n",
       "      <td>Hg0.7Cd0.3Te</td>\n",
       "      <td>0.310000</td>\n",
       "    </tr>\n",
       "    <tr>\n",
       "      <th>1</th>\n",
       "      <td>CuBr</td>\n",
       "      <td>2.998325</td>\n",
       "    </tr>\n",
       "    <tr>\n",
       "      <th>2</th>\n",
       "      <td>LuP</td>\n",
       "      <td>1.300000</td>\n",
       "    </tr>\n",
       "    <tr>\n",
       "      <th>3</th>\n",
       "      <td>Cu3SbSe4</td>\n",
       "      <td>0.355000</td>\n",
       "    </tr>\n",
       "    <tr>\n",
       "      <th>4</th>\n",
       "      <td>ZnO</td>\n",
       "      <td>3.402809</td>\n",
       "    </tr>\n",
       "  </tbody>\n",
       "</table>\n",
       "</div>"
      ],
      "text/plain": [
       "    composition         E\n",
       "0  Hg0.7Cd0.3Te  0.310000\n",
       "1          CuBr  2.998325\n",
       "2           LuP  1.300000\n",
       "3      Cu3SbSe4  0.355000\n",
       "4           ZnO  3.402809"
      ]
     },
     "execution_count": 240,
     "metadata": {},
     "output_type": "execute_result"
    }
   ],
   "source": [
    "data.head()"
   ]
  },
  {
   "cell_type": "code",
   "execution_count": 241,
   "metadata": {},
   "outputs": [
    {
     "data": {
      "text/html": [
       "<div>\n",
       "<style scoped>\n",
       "    .dataframe tbody tr th:only-of-type {\n",
       "        vertical-align: middle;\n",
       "    }\n",
       "\n",
       "    .dataframe tbody tr th {\n",
       "        vertical-align: top;\n",
       "    }\n",
       "\n",
       "    .dataframe thead th {\n",
       "        text-align: right;\n",
       "    }\n",
       "</style>\n",
       "<table border=\"1\" class=\"dataframe\">\n",
       "  <thead>\n",
       "    <tr style=\"text-align: right;\">\n",
       "      <th></th>\n",
       "      <th>composition</th>\n",
       "      <th>E</th>\n",
       "      <th>band_gap_OQMD</th>\n",
       "    </tr>\n",
       "  </thead>\n",
       "  <tbody>\n",
       "    <tr>\n",
       "      <th>0</th>\n",
       "      <td>Hg0.7Cd0.3Te</td>\n",
       "      <td>0.310000</td>\n",
       "      <td>NaN</td>\n",
       "    </tr>\n",
       "    <tr>\n",
       "      <th>1</th>\n",
       "      <td>CuBr</td>\n",
       "      <td>2.998325</td>\n",
       "      <td>NaN</td>\n",
       "    </tr>\n",
       "    <tr>\n",
       "      <th>2</th>\n",
       "      <td>LuP</td>\n",
       "      <td>1.300000</td>\n",
       "      <td>NaN</td>\n",
       "    </tr>\n",
       "    <tr>\n",
       "      <th>3</th>\n",
       "      <td>Cu3SbSe4</td>\n",
       "      <td>0.355000</td>\n",
       "      <td>NaN</td>\n",
       "    </tr>\n",
       "    <tr>\n",
       "      <th>4</th>\n",
       "      <td>ZnO</td>\n",
       "      <td>3.402809</td>\n",
       "      <td>NaN</td>\n",
       "    </tr>\n",
       "    <tr>\n",
       "      <th>...</th>\n",
       "      <td>...</td>\n",
       "      <td>...</td>\n",
       "      <td>...</td>\n",
       "    </tr>\n",
       "    <tr>\n",
       "      <th>4925</th>\n",
       "      <td>Tm2MgTl</td>\n",
       "      <td>0.000000</td>\n",
       "      <td>NaN</td>\n",
       "    </tr>\n",
       "    <tr>\n",
       "      <th>4926</th>\n",
       "      <td>Nb5Ga4</td>\n",
       "      <td>0.000000</td>\n",
       "      <td>NaN</td>\n",
       "    </tr>\n",
       "    <tr>\n",
       "      <th>4927</th>\n",
       "      <td>Tb2Sb5</td>\n",
       "      <td>0.000000</td>\n",
       "      <td>NaN</td>\n",
       "    </tr>\n",
       "    <tr>\n",
       "      <th>4928</th>\n",
       "      <td>Lu2AlTc</td>\n",
       "      <td>0.000000</td>\n",
       "      <td>NaN</td>\n",
       "    </tr>\n",
       "    <tr>\n",
       "      <th>4929</th>\n",
       "      <td>CeZnPO,166</td>\n",
       "      <td>0.000000</td>\n",
       "      <td>NaN</td>\n",
       "    </tr>\n",
       "  </tbody>\n",
       "</table>\n",
       "<p>4930 rows × 3 columns</p>\n",
       "</div>"
      ],
      "text/plain": [
       "       composition         E  band_gap_OQMD\n",
       "0     Hg0.7Cd0.3Te  0.310000            NaN\n",
       "1             CuBr  2.998325            NaN\n",
       "2              LuP  1.300000            NaN\n",
       "3         Cu3SbSe4  0.355000            NaN\n",
       "4              ZnO  3.402809            NaN\n",
       "...            ...       ...            ...\n",
       "4925       Tm2MgTl  0.000000            NaN\n",
       "4926        Nb5Ga4  0.000000            NaN\n",
       "4927        Tb2Sb5  0.000000            NaN\n",
       "4928       Lu2AlTc  0.000000            NaN\n",
       "4929    CeZnPO,166  0.000000            NaN\n",
       "\n",
       "[4930 rows x 3 columns]"
      ]
     },
     "execution_count": 241,
     "metadata": {},
     "output_type": "execute_result"
    }
   ],
   "source": [
    "#add a new column \n",
    "\n",
    "data['band_gap_OQMD'] = np.nan\n",
    "data"
   ]
  },
  {
   "cell_type": "markdown",
   "metadata": {},
   "source": [
    "Now we are going to fill the column 'band_gap_OQMD' with the band gap data from the OQMD data base. Let's define the function "
   ]
  },
  {
   "cell_type": "code",
   "execution_count": 251,
   "metadata": {},
   "outputs": [],
   "source": [
    "import requests\n",
    "def add_band_gap(df):\n",
    "    i=0\n",
    "    while i !=len(df['band_gap_OQMD']):\n",
    "        print(i)\n",
    "        \"\"\"\n",
    "        Query to OQMD. It generates a dataset with the compound name and band gap value. \n",
    "        \"\"\"\n",
    "        url = \"http://oqmd.org/oqmdapi/formationenergy?fields=name,band_gap&filter=chemical_formula=\"+str(df['composition'][i])\n",
    "        response = requests.get(url).json()\n",
    "        data_pd = pd.DataFrame(response['data'])\n",
    "        \"\"\"\n",
    "        In the generated dataset from the OQMD for a given 'chemical_formula' (which is a compound name) we look for the compounds with the DFT band gap value close to the DFT one.    \n",
    "        \"\"\"\n",
    "        if len(data_pd)==0:\n",
    "            i+=1\n",
    "            continue \n",
    "        if len(data_pd['band_gap'])==1:\n",
    "            df['band_gap_OQMD'][i] = data_pd['band_gap'].mean()\n",
    "            i+=1\n",
    "            continue \n",
    "        bg_diff_abs = np.array([])\n",
    "        bg_diff = np.array([])\n",
    "        for gap in data_pd['band_gap']:\n",
    "            if str(gap)!='nan':\n",
    "                bg_diff_abs = np.append(bg_diff, abs(df['E'][i]-gap))\n",
    "                bg_diff = np.append(bg_diff, df['E'][i]-gap)\n",
    "        min_diff = bg_diff_abs.min()\n",
    "        for num in bg_diff:\n",
    "            if abs(num-min_diff)<0.0001:\n",
    "                    df['band_gap_OQMD'][i] = df['E'][i]-min_diff\n",
    "            elif abs(num+min_diff)<0.0001:\n",
    "                    df['band_gap_OQMD'][i] = df['E'][i]+min_diff\n",
    "        i+=1\n",
    "    return df   "
   ]
  },
  {
   "cell_type": "code",
   "execution_count": null,
   "metadata": {},
   "outputs": [],
   "source": [
    "# Use the function defined above in order to add DFT band gap data to the dataset\n",
    "add_band_gap(data)"
   ]
  },
  {
   "cell_type": "markdown",
   "metadata": {},
   "source": [
    "There are 2791 not NaN's only"
   ]
  },
  {
   "cell_type": "code",
   "execution_count": 273,
   "metadata": {},
   "outputs": [
    {
     "name": "stdout",
     "output_type": "stream",
     "text": [
      "2791\n"
     ]
    }
   ],
   "source": [
    "j=0\n",
    "for i in data['band_gap_OQMD'].isnull():\n",
    "    if i==False:\n",
    "        j+=1\n",
    "print(j)"
   ]
  },
  {
   "cell_type": "markdown",
   "metadata": {},
   "source": [
    "So it means that among more then 4000 compounds in the original database there are only 2791 for which DFT band gap values were found in the OQMD database"
   ]
  },
  {
   "cell_type": "code",
   "execution_count": 274,
   "metadata": {},
   "outputs": [],
   "source": [
    "# save data to the csv file\n",
    "data.to_csv('band_gaps_OQMD.csv', header=True, index=False)"
   ]
  },
  {
   "cell_type": "markdown",
   "metadata": {},
   "source": [
    "# The main part: feauture generating, feature engineering and machine learning"
   ]
  },
  {
   "cell_type": "code",
   "execution_count": 85,
   "metadata": {},
   "outputs": [],
   "source": [
    "# Download the data with experimental and DFT-clculated band gaps\n",
    "data = pd.read_csv(\"/home/dima/Desktop/ML/Data/A general purpose - data/band_gaps_OQMD.csv\")"
   ]
  },
  {
   "cell_type": "markdown",
   "metadata": {},
   "source": [
    "Remove all the raw witn NaN's"
   ]
  },
  {
   "cell_type": "code",
   "execution_count": 86,
   "metadata": {},
   "outputs": [
    {
     "name": "stdout",
     "output_type": "stream",
     "text": [
      "Removed 2139/4930 entries\n"
     ]
    },
    {
     "data": {
      "text/html": [
       "<div>\n",
       "<style scoped>\n",
       "    .dataframe tbody tr th:only-of-type {\n",
       "        vertical-align: middle;\n",
       "    }\n",
       "\n",
       "    .dataframe tbody tr th {\n",
       "        vertical-align: top;\n",
       "    }\n",
       "\n",
       "    .dataframe thead th {\n",
       "        text-align: right;\n",
       "    }\n",
       "</style>\n",
       "<table border=\"1\" class=\"dataframe\">\n",
       "  <thead>\n",
       "    <tr style=\"text-align: right;\">\n",
       "      <th></th>\n",
       "      <th>composition</th>\n",
       "      <th>E</th>\n",
       "      <th>band_gap_OQMD</th>\n",
       "    </tr>\n",
       "  </thead>\n",
       "  <tbody>\n",
       "    <tr>\n",
       "      <th>0</th>\n",
       "      <td>CuBr</td>\n",
       "      <td>2.998325</td>\n",
       "      <td>1.077</td>\n",
       "    </tr>\n",
       "    <tr>\n",
       "      <th>1</th>\n",
       "      <td>LuP</td>\n",
       "      <td>1.300000</td>\n",
       "      <td>1.896</td>\n",
       "    </tr>\n",
       "    <tr>\n",
       "      <th>2</th>\n",
       "      <td>Cu3SbSe4</td>\n",
       "      <td>0.355000</td>\n",
       "      <td>0.000</td>\n",
       "    </tr>\n",
       "    <tr>\n",
       "      <th>3</th>\n",
       "      <td>ZnO</td>\n",
       "      <td>3.402809</td>\n",
       "      <td>1.087</td>\n",
       "    </tr>\n",
       "    <tr>\n",
       "      <th>4</th>\n",
       "      <td>PtSb2</td>\n",
       "      <td>0.117444</td>\n",
       "      <td>0.000</td>\n",
       "    </tr>\n",
       "    <tr>\n",
       "      <th>...</th>\n",
       "      <td>...</td>\n",
       "      <td>...</td>\n",
       "      <td>...</td>\n",
       "    </tr>\n",
       "    <tr>\n",
       "      <th>2786</th>\n",
       "      <td>ScCoO3</td>\n",
       "      <td>0.000000</td>\n",
       "      <td>0.849</td>\n",
       "    </tr>\n",
       "    <tr>\n",
       "      <th>2787</th>\n",
       "      <td>Tm2MgTl</td>\n",
       "      <td>0.000000</td>\n",
       "      <td>0.000</td>\n",
       "    </tr>\n",
       "    <tr>\n",
       "      <th>2788</th>\n",
       "      <td>Nb5Ga4</td>\n",
       "      <td>0.000000</td>\n",
       "      <td>0.000</td>\n",
       "    </tr>\n",
       "    <tr>\n",
       "      <th>2789</th>\n",
       "      <td>Tb2Sb5</td>\n",
       "      <td>0.000000</td>\n",
       "      <td>0.000</td>\n",
       "    </tr>\n",
       "    <tr>\n",
       "      <th>2790</th>\n",
       "      <td>Lu2AlTc</td>\n",
       "      <td>0.000000</td>\n",
       "      <td>0.000</td>\n",
       "    </tr>\n",
       "  </tbody>\n",
       "</table>\n",
       "<p>2791 rows × 3 columns</p>\n",
       "</div>"
      ],
      "text/plain": [
       "     composition         E  band_gap_OQMD\n",
       "0           CuBr  2.998325          1.077\n",
       "1            LuP  1.300000          1.896\n",
       "2       Cu3SbSe4  0.355000          0.000\n",
       "3            ZnO  3.402809          1.087\n",
       "4          PtSb2  0.117444          0.000\n",
       "...          ...       ...            ...\n",
       "2786      ScCoO3  0.000000          0.849\n",
       "2787     Tm2MgTl  0.000000          0.000\n",
       "2788      Nb5Ga4  0.000000          0.000\n",
       "2789      Tb2Sb5  0.000000          0.000\n",
       "2790     Lu2AlTc  0.000000          0.000\n",
       "\n",
       "[2791 rows x 3 columns]"
      ]
     },
     "execution_count": 86,
     "metadata": {},
     "output_type": "execute_result"
    }
   ],
   "source": [
    "original_count = len(data)\n",
    "data.dropna(subset=['band_gap_OQMD'], inplace=True)\n",
    "print('Removed %d/%d entries'%(original_count - len(data), original_count))\n",
    "data.reset_index(drop=True)"
   ]
  },
  {
   "cell_type": "markdown",
   "metadata": {},
   "source": [
    "Create a new column 'formula' which is a list of the elements of a given compound. It will be needed further for feature generating "
   ]
  },
  {
   "cell_type": "code",
   "execution_count": 5,
   "metadata": {},
   "outputs": [
    {
     "data": {
      "application/vnd.jupyter.widget-view+json": {
       "model_id": "82b212d491084f4aba5c7b75a19a553c",
       "version_major": 2,
       "version_minor": 0
      },
      "text/plain": [
       "HBox(children=(FloatProgress(value=0.0, description='StrToComposition', max=2791.0, style=ProgressStyle(descri…"
      ]
     },
     "metadata": {},
     "output_type": "display_data"
    },
    {
     "name": "stdout",
     "output_type": "stream",
     "text": [
      "\n"
     ]
    }
   ],
   "source": [
    "data = StrToComposition(target_col_id='formula').featurize_dataframe(data, 'composition',  ignore_errors=True)"
   ]
  },
  {
   "cell_type": "markdown",
   "metadata": {},
   "source": [
    "Generate features with matminer featurizer with 'magpie' preset"
   ]
  },
  {
   "cell_type": "code",
   "execution_count": 8,
   "metadata": {},
   "outputs": [
    {
     "data": {
      "application/vnd.jupyter.widget-view+json": {
       "model_id": "bc7fad8701e740789fa564a07b8c1dac",
       "version_major": 2,
       "version_minor": 0
      },
      "text/plain": [
       "HBox(children=(FloatProgress(value=0.0, description='MultipleFeaturizer', max=2791.0, style=ProgressStyle(desc…"
      ]
     },
     "metadata": {},
     "output_type": "display_data"
    },
    {
     "name": "stdout",
     "output_type": "stream",
     "text": [
      "\n"
     ]
    }
   ],
   "source": [
    "from matminer.featurizers.composition import ElementProperty\n",
    "feature_calculators_magpie = MultipleFeaturizer([cf.Stoichiometry(), cf.ElementProperty.from_preset(\"magpie\"),\n",
    "                                          cf.ValenceOrbital(props=['avg']), cf.IonProperty(fast=True)])\n",
    "feature_labels_magpie = feature_calculators_magpie.feature_labels()\n",
    "df_magpie = feature_calculators_magpie.featurize_dataframe(data, col_id='formula', ignore_errors=True)"
   ]
  },
  {
   "cell_type": "code",
   "execution_count": 9,
   "metadata": {},
   "outputs": [
    {
     "data": {
      "text/html": [
       "<div>\n",
       "<style scoped>\n",
       "    .dataframe tbody tr th:only-of-type {\n",
       "        vertical-align: middle;\n",
       "    }\n",
       "\n",
       "    .dataframe tbody tr th {\n",
       "        vertical-align: top;\n",
       "    }\n",
       "\n",
       "    .dataframe thead th {\n",
       "        text-align: right;\n",
       "    }\n",
       "</style>\n",
       "<table border=\"1\" class=\"dataframe\">\n",
       "  <thead>\n",
       "    <tr style=\"text-align: right;\">\n",
       "      <th></th>\n",
       "      <th>composition</th>\n",
       "      <th>E</th>\n",
       "      <th>band_gap_OQMD</th>\n",
       "      <th>formula</th>\n",
       "      <th>0-norm</th>\n",
       "      <th>2-norm</th>\n",
       "      <th>3-norm</th>\n",
       "      <th>5-norm</th>\n",
       "      <th>7-norm</th>\n",
       "      <th>10-norm</th>\n",
       "      <th>...</th>\n",
       "      <th>MagpieData mean SpaceGroupNumber</th>\n",
       "      <th>MagpieData avg_dev SpaceGroupNumber</th>\n",
       "      <th>MagpieData mode SpaceGroupNumber</th>\n",
       "      <th>avg s valence electrons</th>\n",
       "      <th>avg p valence electrons</th>\n",
       "      <th>avg d valence electrons</th>\n",
       "      <th>avg f valence electrons</th>\n",
       "      <th>compound possible</th>\n",
       "      <th>max ionic char</th>\n",
       "      <th>avg ionic char</th>\n",
       "    </tr>\n",
       "  </thead>\n",
       "  <tbody>\n",
       "    <tr>\n",
       "      <th>1</th>\n",
       "      <td>CuBr</td>\n",
       "      <td>2.998325</td>\n",
       "      <td>1.077</td>\n",
       "      <td>(Cu, Br)</td>\n",
       "      <td>2</td>\n",
       "      <td>0.707107</td>\n",
       "      <td>0.629961</td>\n",
       "      <td>0.574349</td>\n",
       "      <td>0.552045</td>\n",
       "      <td>0.535887</td>\n",
       "      <td>...</td>\n",
       "      <td>144.500000</td>\n",
       "      <td>80.500000</td>\n",
       "      <td>64.0</td>\n",
       "      <td>1.500000</td>\n",
       "      <td>2.500</td>\n",
       "      <td>10.000000</td>\n",
       "      <td>0.000000</td>\n",
       "      <td>False</td>\n",
       "      <td>0.244896</td>\n",
       "      <td>0.061224</td>\n",
       "    </tr>\n",
       "    <tr>\n",
       "      <th>2</th>\n",
       "      <td>LuP</td>\n",
       "      <td>1.300000</td>\n",
       "      <td>1.896</td>\n",
       "      <td>(Lu, P)</td>\n",
       "      <td>2</td>\n",
       "      <td>0.707107</td>\n",
       "      <td>0.629961</td>\n",
       "      <td>0.574349</td>\n",
       "      <td>0.552045</td>\n",
       "      <td>0.535887</td>\n",
       "      <td>...</td>\n",
       "      <td>98.000000</td>\n",
       "      <td>96.000000</td>\n",
       "      <td>2.0</td>\n",
       "      <td>2.000000</td>\n",
       "      <td>1.500</td>\n",
       "      <td>0.500000</td>\n",
       "      <td>7.000000</td>\n",
       "      <td>True</td>\n",
       "      <td>0.190712</td>\n",
       "      <td>0.047678</td>\n",
       "    </tr>\n",
       "    <tr>\n",
       "      <th>3</th>\n",
       "      <td>Cu3SbSe4</td>\n",
       "      <td>0.355000</td>\n",
       "      <td>0.000</td>\n",
       "      <td>(Cu, Sb, Se)</td>\n",
       "      <td>3</td>\n",
       "      <td>0.637377</td>\n",
       "      <td>0.564295</td>\n",
       "      <td>0.521836</td>\n",
       "      <td>0.509034</td>\n",
       "      <td>0.502747</td>\n",
       "      <td>...</td>\n",
       "      <td>112.125000</td>\n",
       "      <td>98.125000</td>\n",
       "      <td>14.0</td>\n",
       "      <td>1.625000</td>\n",
       "      <td>2.375</td>\n",
       "      <td>10.000000</td>\n",
       "      <td>0.000000</td>\n",
       "      <td>False</td>\n",
       "      <td>0.100238</td>\n",
       "      <td>0.022844</td>\n",
       "    </tr>\n",
       "    <tr>\n",
       "      <th>4</th>\n",
       "      <td>ZnO</td>\n",
       "      <td>3.402809</td>\n",
       "      <td>1.087</td>\n",
       "      <td>(Zn, O)</td>\n",
       "      <td>2</td>\n",
       "      <td>0.707107</td>\n",
       "      <td>0.629961</td>\n",
       "      <td>0.574349</td>\n",
       "      <td>0.552045</td>\n",
       "      <td>0.535887</td>\n",
       "      <td>...</td>\n",
       "      <td>103.000000</td>\n",
       "      <td>91.000000</td>\n",
       "      <td>12.0</td>\n",
       "      <td>2.000000</td>\n",
       "      <td>2.000</td>\n",
       "      <td>5.000000</td>\n",
       "      <td>0.000000</td>\n",
       "      <td>True</td>\n",
       "      <td>0.551131</td>\n",
       "      <td>0.137783</td>\n",
       "    </tr>\n",
       "    <tr>\n",
       "      <th>5</th>\n",
       "      <td>PtSb2</td>\n",
       "      <td>0.117444</td>\n",
       "      <td>0.000</td>\n",
       "      <td>(Pt, Sb)</td>\n",
       "      <td>2</td>\n",
       "      <td>0.745356</td>\n",
       "      <td>0.693361</td>\n",
       "      <td>0.670782</td>\n",
       "      <td>0.667408</td>\n",
       "      <td>0.666732</td>\n",
       "      <td>...</td>\n",
       "      <td>185.666667</td>\n",
       "      <td>26.222222</td>\n",
       "      <td>166.0</td>\n",
       "      <td>1.666667</td>\n",
       "      <td>2.000</td>\n",
       "      <td>9.666667</td>\n",
       "      <td>4.666667</td>\n",
       "      <td>False</td>\n",
       "      <td>0.013138</td>\n",
       "      <td>0.002920</td>\n",
       "    </tr>\n",
       "  </tbody>\n",
       "</table>\n",
       "<p>5 rows × 149 columns</p>\n",
       "</div>"
      ],
      "text/plain": [
       "  composition         E  band_gap_OQMD       formula  0-norm    2-norm  \\\n",
       "1        CuBr  2.998325          1.077      (Cu, Br)       2  0.707107   \n",
       "2         LuP  1.300000          1.896       (Lu, P)       2  0.707107   \n",
       "3    Cu3SbSe4  0.355000          0.000  (Cu, Sb, Se)       3  0.637377   \n",
       "4         ZnO  3.402809          1.087       (Zn, O)       2  0.707107   \n",
       "5       PtSb2  0.117444          0.000      (Pt, Sb)       2  0.745356   \n",
       "\n",
       "     3-norm    5-norm    7-norm   10-norm  ...  \\\n",
       "1  0.629961  0.574349  0.552045  0.535887  ...   \n",
       "2  0.629961  0.574349  0.552045  0.535887  ...   \n",
       "3  0.564295  0.521836  0.509034  0.502747  ...   \n",
       "4  0.629961  0.574349  0.552045  0.535887  ...   \n",
       "5  0.693361  0.670782  0.667408  0.666732  ...   \n",
       "\n",
       "   MagpieData mean SpaceGroupNumber  MagpieData avg_dev SpaceGroupNumber  \\\n",
       "1                        144.500000                            80.500000   \n",
       "2                         98.000000                            96.000000   \n",
       "3                        112.125000                            98.125000   \n",
       "4                        103.000000                            91.000000   \n",
       "5                        185.666667                            26.222222   \n",
       "\n",
       "   MagpieData mode SpaceGroupNumber  avg s valence electrons  \\\n",
       "1                              64.0                 1.500000   \n",
       "2                               2.0                 2.000000   \n",
       "3                              14.0                 1.625000   \n",
       "4                              12.0                 2.000000   \n",
       "5                             166.0                 1.666667   \n",
       "\n",
       "   avg p valence electrons  avg d valence electrons  avg f valence electrons  \\\n",
       "1                    2.500                10.000000                 0.000000   \n",
       "2                    1.500                 0.500000                 7.000000   \n",
       "3                    2.375                10.000000                 0.000000   \n",
       "4                    2.000                 5.000000                 0.000000   \n",
       "5                    2.000                 9.666667                 4.666667   \n",
       "\n",
       "   compound possible  max ionic char  avg ionic char  \n",
       "1              False        0.244896        0.061224  \n",
       "2               True        0.190712        0.047678  \n",
       "3              False        0.100238        0.022844  \n",
       "4               True        0.551131        0.137783  \n",
       "5              False        0.013138        0.002920  \n",
       "\n",
       "[5 rows x 149 columns]"
      ]
     },
     "execution_count": 9,
     "metadata": {},
     "output_type": "execute_result"
    }
   ],
   "source": [
    "df_magpie.head()"
   ]
  },
  {
   "cell_type": "markdown",
   "metadata": {},
   "source": [
    "Data now includes space group number (minimum, maximum, avarage) which is useless. Drop space group data"
   ]
  },
  {
   "cell_type": "code",
   "execution_count": 10,
   "metadata": {},
   "outputs": [],
   "source": [
    "dropcol_magpie = ['MagpieData minimum SpaceGroupNumber','MagpieData maximum SpaceGroupNumber','MagpieData range SpaceGroupNumber', 'MagpieData mean SpaceGroupNumber', 'MagpieData avg_dev SpaceGroupNumber', 'MagpieData mode SpaceGroupNumber']\n",
    "df_magpie=df_magpie.drop(columns = dropcol_magpie)\n",
    "for i in dropcol_magpie:\n",
    "    feature_labels_magpie.remove(i)  "
   ]
  },
  {
   "cell_type": "markdown",
   "metadata": {},
   "source": [
    "Generate features with 'deml' preset"
   ]
  },
  {
   "cell_type": "code",
   "execution_count": 11,
   "metadata": {},
   "outputs": [
    {
     "data": {
      "application/vnd.jupyter.widget-view+json": {
       "model_id": "aa53b632322e49d6928095dda7f680a8",
       "version_major": 2,
       "version_minor": 0
      },
      "text/plain": [
       "HBox(children=(FloatProgress(value=0.0, description='ElementProperty', max=2791.0, style=ProgressStyle(descrip…"
      ]
     },
     "metadata": {},
     "output_type": "display_data"
    },
    {
     "name": "stdout",
     "output_type": "stream",
     "text": [
      "\n"
     ]
    }
   ],
   "source": [
    "from matminer.featurizers.composition import ElementProperty\n",
    "\n",
    "ep_feat = ElementProperty.from_preset(preset_name=\"deml\")\n",
    "df_deml = ep_feat.featurize_dataframe(data, col_id=\"formula\", ignore_errors=True)  # input the \"composition\" column to the featurizer\n",
    "feature_calculators_deml = ep_feat.feature_labels()\n",
    "dropcol_deml = ['DemlData minimum atom_num','DemlData maximum atom_num',\n",
    " 'DemlData range atom_num',\n",
    " 'DemlData mean atom_num',\n",
    " 'DemlData std_dev atom_num',\n",
    " 'DemlData minimum atom_mass',\n",
    " 'DemlData maximum atom_mass',\n",
    " 'DemlData range atom_mass',\n",
    " 'DemlData mean atom_mass',\n",
    " 'DemlData std_dev atom_mass',\n",
    " 'DemlData minimum row_num',\n",
    " 'DemlData maximum row_num','DemlData range row_num', 'DemlData mean row_num', 'DemlData std_dev row_num', 'DemlData minimum col_num', 'DemlData maximum col_num','DemlData range col_num','DemlData mean col_num', 'DemlData std_dev col_num',\n",
    "'DemlData minimum melting_point',\n",
    "'DemlData maximum melting_point',\n",
    "'DemlData range melting_point',\n",
    "'DemlData mean melting_point',\n",
    "'DemlData std_dev melting_point',\n",
    "'DemlData minimum electronegativity',\n",
    "'DemlData maximum electronegativity',\n",
    "'DemlData range electronegativity',\n",
    "'DemlData mean electronegativity',\n",
    "'DemlData std_dev electronegativity']\n",
    "df_deml = df_deml.drop(columns=dropcol_deml)"
   ]
  },
  {
   "cell_type": "markdown",
   "metadata": {},
   "source": [
    "Merge 'magpie' and 'deml' features "
   ]
  },
  {
   "cell_type": "code",
   "execution_count": 12,
   "metadata": {},
   "outputs": [
    {
     "data": {
      "text/html": [
       "<div>\n",
       "<style scoped>\n",
       "    .dataframe tbody tr th:only-of-type {\n",
       "        vertical-align: middle;\n",
       "    }\n",
       "\n",
       "    .dataframe tbody tr th {\n",
       "        vertical-align: top;\n",
       "    }\n",
       "\n",
       "    .dataframe thead th {\n",
       "        text-align: right;\n",
       "    }\n",
       "</style>\n",
       "<table border=\"1\" class=\"dataframe\">\n",
       "  <thead>\n",
       "    <tr style=\"text-align: right;\">\n",
       "      <th></th>\n",
       "      <th>composition</th>\n",
       "      <th>E</th>\n",
       "      <th>band_gap_OQMD</th>\n",
       "      <th>formula</th>\n",
       "      <th>0-norm</th>\n",
       "      <th>2-norm</th>\n",
       "      <th>3-norm</th>\n",
       "      <th>5-norm</th>\n",
       "      <th>7-norm</th>\n",
       "      <th>10-norm</th>\n",
       "      <th>...</th>\n",
       "      <th>DemlData minimum mus_fere</th>\n",
       "      <th>DemlData maximum mus_fere</th>\n",
       "      <th>DemlData range mus_fere</th>\n",
       "      <th>DemlData mean mus_fere</th>\n",
       "      <th>DemlData std_dev mus_fere</th>\n",
       "      <th>DemlData minimum FERE correction</th>\n",
       "      <th>DemlData maximum FERE correction</th>\n",
       "      <th>DemlData range FERE correction</th>\n",
       "      <th>DemlData mean FERE correction</th>\n",
       "      <th>DemlData std_dev FERE correction</th>\n",
       "    </tr>\n",
       "  </thead>\n",
       "  <tbody>\n",
       "    <tr>\n",
       "      <th>0</th>\n",
       "      <td>CuBr</td>\n",
       "      <td>2.998325</td>\n",
       "      <td>1.077</td>\n",
       "      <td>(Cu, Br)</td>\n",
       "      <td>2</td>\n",
       "      <td>0.707107</td>\n",
       "      <td>0.629961</td>\n",
       "      <td>0.574349</td>\n",
       "      <td>0.552045</td>\n",
       "      <td>0.535887</td>\n",
       "      <td>...</td>\n",
       "      <td>NaN</td>\n",
       "      <td>NaN</td>\n",
       "      <td>NaN</td>\n",
       "      <td>NaN</td>\n",
       "      <td>NaN</td>\n",
       "      <td>NaN</td>\n",
       "      <td>NaN</td>\n",
       "      <td>NaN</td>\n",
       "      <td>NaN</td>\n",
       "      <td>NaN</td>\n",
       "    </tr>\n",
       "    <tr>\n",
       "      <th>1</th>\n",
       "      <td>LuP</td>\n",
       "      <td>1.300000</td>\n",
       "      <td>1.896</td>\n",
       "      <td>(Lu, P)</td>\n",
       "      <td>2</td>\n",
       "      <td>0.707107</td>\n",
       "      <td>0.629961</td>\n",
       "      <td>0.574349</td>\n",
       "      <td>0.552045</td>\n",
       "      <td>0.535887</td>\n",
       "      <td>...</td>\n",
       "      <td>NaN</td>\n",
       "      <td>NaN</td>\n",
       "      <td>NaN</td>\n",
       "      <td>NaN</td>\n",
       "      <td>NaN</td>\n",
       "      <td>NaN</td>\n",
       "      <td>NaN</td>\n",
       "      <td>NaN</td>\n",
       "      <td>NaN</td>\n",
       "      <td>NaN</td>\n",
       "    </tr>\n",
       "    <tr>\n",
       "      <th>2</th>\n",
       "      <td>Cu3SbSe4</td>\n",
       "      <td>0.355000</td>\n",
       "      <td>0.000</td>\n",
       "      <td>(Cu, Sb, Se)</td>\n",
       "      <td>3</td>\n",
       "      <td>0.637377</td>\n",
       "      <td>0.564295</td>\n",
       "      <td>0.521836</td>\n",
       "      <td>0.509034</td>\n",
       "      <td>0.502747</td>\n",
       "      <td>...</td>\n",
       "      <td>-4.286226</td>\n",
       "      <td>-1.972581</td>\n",
       "      <td>2.313645</td>\n",
       "      <td>-3.050496</td>\n",
       "      <td>1.124909</td>\n",
       "      <td>-0.166226</td>\n",
       "      <td>0.057419</td>\n",
       "      <td>0.223645</td>\n",
       "      <td>-0.034246</td>\n",
       "      <td>0.100252</td>\n",
       "    </tr>\n",
       "    <tr>\n",
       "      <th>3</th>\n",
       "      <td>ZnO</td>\n",
       "      <td>3.402809</td>\n",
       "      <td>1.087</td>\n",
       "      <td>(Zn, O)</td>\n",
       "      <td>2</td>\n",
       "      <td>0.707107</td>\n",
       "      <td>0.629961</td>\n",
       "      <td>0.574349</td>\n",
       "      <td>0.552045</td>\n",
       "      <td>0.535887</td>\n",
       "      <td>...</td>\n",
       "      <td>-4.760000</td>\n",
       "      <td>-0.840000</td>\n",
       "      <td>3.920000</td>\n",
       "      <td>-2.800000</td>\n",
       "      <td>2.771859</td>\n",
       "      <td>0.230000</td>\n",
       "      <td>0.430000</td>\n",
       "      <td>0.200000</td>\n",
       "      <td>0.330000</td>\n",
       "      <td>0.141421</td>\n",
       "    </tr>\n",
       "    <tr>\n",
       "      <th>4</th>\n",
       "      <td>PtSb2</td>\n",
       "      <td>0.117444</td>\n",
       "      <td>0.000</td>\n",
       "      <td>(Pt, Sb)</td>\n",
       "      <td>2</td>\n",
       "      <td>0.745356</td>\n",
       "      <td>0.693361</td>\n",
       "      <td>0.670782</td>\n",
       "      <td>0.667408</td>\n",
       "      <td>0.666732</td>\n",
       "      <td>...</td>\n",
       "      <td>-4.286226</td>\n",
       "      <td>-3.952760</td>\n",
       "      <td>0.333466</td>\n",
       "      <td>-4.175071</td>\n",
       "      <td>0.235796</td>\n",
       "      <td>-0.432760</td>\n",
       "      <td>-0.166226</td>\n",
       "      <td>0.266534</td>\n",
       "      <td>-0.255071</td>\n",
       "      <td>0.188468</td>\n",
       "    </tr>\n",
       "    <tr>\n",
       "      <th>...</th>\n",
       "      <td>...</td>\n",
       "      <td>...</td>\n",
       "      <td>...</td>\n",
       "      <td>...</td>\n",
       "      <td>...</td>\n",
       "      <td>...</td>\n",
       "      <td>...</td>\n",
       "      <td>...</td>\n",
       "      <td>...</td>\n",
       "      <td>...</td>\n",
       "      <td>...</td>\n",
       "      <td>...</td>\n",
       "      <td>...</td>\n",
       "      <td>...</td>\n",
       "      <td>...</td>\n",
       "      <td>...</td>\n",
       "      <td>...</td>\n",
       "      <td>...</td>\n",
       "      <td>...</td>\n",
       "      <td>...</td>\n",
       "      <td>...</td>\n",
       "    </tr>\n",
       "    <tr>\n",
       "      <th>2786</th>\n",
       "      <td>ScCoO3</td>\n",
       "      <td>0.000000</td>\n",
       "      <td>0.849</td>\n",
       "      <td>(Sc, Co, O)</td>\n",
       "      <td>3</td>\n",
       "      <td>0.663325</td>\n",
       "      <td>0.614463</td>\n",
       "      <td>0.600984</td>\n",
       "      <td>0.600078</td>\n",
       "      <td>0.600002</td>\n",
       "      <td>...</td>\n",
       "      <td>-4.760000</td>\n",
       "      <td>-4.630242</td>\n",
       "      <td>0.129758</td>\n",
       "      <td>-4.732918</td>\n",
       "      <td>0.068666</td>\n",
       "      <td>-0.104349</td>\n",
       "      <td>0.489758</td>\n",
       "      <td>0.594106</td>\n",
       "      <td>0.215082</td>\n",
       "      <td>0.252240</td>\n",
       "    </tr>\n",
       "    <tr>\n",
       "      <th>2787</th>\n",
       "      <td>Tm2MgTl</td>\n",
       "      <td>0.000000</td>\n",
       "      <td>0.000</td>\n",
       "      <td>(Tm, Mg, Tl)</td>\n",
       "      <td>3</td>\n",
       "      <td>0.612372</td>\n",
       "      <td>0.538609</td>\n",
       "      <td>0.506099</td>\n",
       "      <td>0.501109</td>\n",
       "      <td>0.500098</td>\n",
       "      <td>...</td>\n",
       "      <td>NaN</td>\n",
       "      <td>NaN</td>\n",
       "      <td>NaN</td>\n",
       "      <td>NaN</td>\n",
       "      <td>NaN</td>\n",
       "      <td>NaN</td>\n",
       "      <td>NaN</td>\n",
       "      <td>NaN</td>\n",
       "      <td>NaN</td>\n",
       "      <td>NaN</td>\n",
       "    </tr>\n",
       "    <tr>\n",
       "      <th>2788</th>\n",
       "      <td>Nb5Ga4</td>\n",
       "      <td>0.000000</td>\n",
       "      <td>0.000</td>\n",
       "      <td>(Nb, Ga)</td>\n",
       "      <td>2</td>\n",
       "      <td>0.711458</td>\n",
       "      <td>0.637644</td>\n",
       "      <td>0.587958</td>\n",
       "      <td>0.570873</td>\n",
       "      <td>0.561251</td>\n",
       "      <td>...</td>\n",
       "      <td>-6.686752</td>\n",
       "      <td>-2.370000</td>\n",
       "      <td>4.316752</td>\n",
       "      <td>-4.768195</td>\n",
       "      <td>3.052404</td>\n",
       "      <td>0.353248</td>\n",
       "      <td>0.660000</td>\n",
       "      <td>0.306752</td>\n",
       "      <td>0.489582</td>\n",
       "      <td>0.216906</td>\n",
       "    </tr>\n",
       "    <tr>\n",
       "      <th>2789</th>\n",
       "      <td>Tb2Sb5</td>\n",
       "      <td>0.000000</td>\n",
       "      <td>0.000</td>\n",
       "      <td>(Tb, Sb)</td>\n",
       "      <td>2</td>\n",
       "      <td>0.769309</td>\n",
       "      <td>0.729210</td>\n",
       "      <td>0.715743</td>\n",
       "      <td>0.714453</td>\n",
       "      <td>0.714293</td>\n",
       "      <td>...</td>\n",
       "      <td>NaN</td>\n",
       "      <td>NaN</td>\n",
       "      <td>NaN</td>\n",
       "      <td>NaN</td>\n",
       "      <td>NaN</td>\n",
       "      <td>NaN</td>\n",
       "      <td>NaN</td>\n",
       "      <td>NaN</td>\n",
       "      <td>NaN</td>\n",
       "      <td>NaN</td>\n",
       "    </tr>\n",
       "    <tr>\n",
       "      <th>2790</th>\n",
       "      <td>Lu2AlTc</td>\n",
       "      <td>0.000000</td>\n",
       "      <td>0.000</td>\n",
       "      <td>(Lu, Al, Tc)</td>\n",
       "      <td>3</td>\n",
       "      <td>0.612372</td>\n",
       "      <td>0.538609</td>\n",
       "      <td>0.506099</td>\n",
       "      <td>0.501109</td>\n",
       "      <td>0.500098</td>\n",
       "      <td>...</td>\n",
       "      <td>NaN</td>\n",
       "      <td>NaN</td>\n",
       "      <td>NaN</td>\n",
       "      <td>NaN</td>\n",
       "      <td>NaN</td>\n",
       "      <td>NaN</td>\n",
       "      <td>NaN</td>\n",
       "      <td>NaN</td>\n",
       "      <td>NaN</td>\n",
       "      <td>NaN</td>\n",
       "    </tr>\n",
       "  </tbody>\n",
       "</table>\n",
       "<p>2791 rows × 193 columns</p>\n",
       "</div>"
      ],
      "text/plain": [
       "     composition         E  band_gap_OQMD       formula  0-norm    2-norm  \\\n",
       "0           CuBr  2.998325          1.077      (Cu, Br)       2  0.707107   \n",
       "1            LuP  1.300000          1.896       (Lu, P)       2  0.707107   \n",
       "2       Cu3SbSe4  0.355000          0.000  (Cu, Sb, Se)       3  0.637377   \n",
       "3            ZnO  3.402809          1.087       (Zn, O)       2  0.707107   \n",
       "4          PtSb2  0.117444          0.000      (Pt, Sb)       2  0.745356   \n",
       "...          ...       ...            ...           ...     ...       ...   \n",
       "2786      ScCoO3  0.000000          0.849   (Sc, Co, O)       3  0.663325   \n",
       "2787     Tm2MgTl  0.000000          0.000  (Tm, Mg, Tl)       3  0.612372   \n",
       "2788      Nb5Ga4  0.000000          0.000      (Nb, Ga)       2  0.711458   \n",
       "2789      Tb2Sb5  0.000000          0.000      (Tb, Sb)       2  0.769309   \n",
       "2790     Lu2AlTc  0.000000          0.000  (Lu, Al, Tc)       3  0.612372   \n",
       "\n",
       "        3-norm    5-norm    7-norm   10-norm  ...  DemlData minimum mus_fere  \\\n",
       "0     0.629961  0.574349  0.552045  0.535887  ...                        NaN   \n",
       "1     0.629961  0.574349  0.552045  0.535887  ...                        NaN   \n",
       "2     0.564295  0.521836  0.509034  0.502747  ...                  -4.286226   \n",
       "3     0.629961  0.574349  0.552045  0.535887  ...                  -4.760000   \n",
       "4     0.693361  0.670782  0.667408  0.666732  ...                  -4.286226   \n",
       "...        ...       ...       ...       ...  ...                        ...   \n",
       "2786  0.614463  0.600984  0.600078  0.600002  ...                  -4.760000   \n",
       "2787  0.538609  0.506099  0.501109  0.500098  ...                        NaN   \n",
       "2788  0.637644  0.587958  0.570873  0.561251  ...                  -6.686752   \n",
       "2789  0.729210  0.715743  0.714453  0.714293  ...                        NaN   \n",
       "2790  0.538609  0.506099  0.501109  0.500098  ...                        NaN   \n",
       "\n",
       "      DemlData maximum mus_fere  DemlData range mus_fere  \\\n",
       "0                           NaN                      NaN   \n",
       "1                           NaN                      NaN   \n",
       "2                     -1.972581                 2.313645   \n",
       "3                     -0.840000                 3.920000   \n",
       "4                     -3.952760                 0.333466   \n",
       "...                         ...                      ...   \n",
       "2786                  -4.630242                 0.129758   \n",
       "2787                        NaN                      NaN   \n",
       "2788                  -2.370000                 4.316752   \n",
       "2789                        NaN                      NaN   \n",
       "2790                        NaN                      NaN   \n",
       "\n",
       "      DemlData mean mus_fere  DemlData std_dev mus_fere  \\\n",
       "0                        NaN                        NaN   \n",
       "1                        NaN                        NaN   \n",
       "2                  -3.050496                   1.124909   \n",
       "3                  -2.800000                   2.771859   \n",
       "4                  -4.175071                   0.235796   \n",
       "...                      ...                        ...   \n",
       "2786               -4.732918                   0.068666   \n",
       "2787                     NaN                        NaN   \n",
       "2788               -4.768195                   3.052404   \n",
       "2789                     NaN                        NaN   \n",
       "2790                     NaN                        NaN   \n",
       "\n",
       "      DemlData minimum FERE correction  DemlData maximum FERE correction  \\\n",
       "0                                  NaN                               NaN   \n",
       "1                                  NaN                               NaN   \n",
       "2                            -0.166226                          0.057419   \n",
       "3                             0.230000                          0.430000   \n",
       "4                            -0.432760                         -0.166226   \n",
       "...                                ...                               ...   \n",
       "2786                         -0.104349                          0.489758   \n",
       "2787                               NaN                               NaN   \n",
       "2788                          0.353248                          0.660000   \n",
       "2789                               NaN                               NaN   \n",
       "2790                               NaN                               NaN   \n",
       "\n",
       "      DemlData range FERE correction  DemlData mean FERE correction  \\\n",
       "0                                NaN                            NaN   \n",
       "1                                NaN                            NaN   \n",
       "2                           0.223645                      -0.034246   \n",
       "3                           0.200000                       0.330000   \n",
       "4                           0.266534                      -0.255071   \n",
       "...                              ...                            ...   \n",
       "2786                        0.594106                       0.215082   \n",
       "2787                             NaN                            NaN   \n",
       "2788                        0.306752                       0.489582   \n",
       "2789                             NaN                            NaN   \n",
       "2790                             NaN                            NaN   \n",
       "\n",
       "      DemlData std_dev FERE correction  \n",
       "0                                  NaN  \n",
       "1                                  NaN  \n",
       "2                             0.100252  \n",
       "3                             0.141421  \n",
       "4                             0.188468  \n",
       "...                                ...  \n",
       "2786                          0.252240  \n",
       "2787                               NaN  \n",
       "2788                          0.216906  \n",
       "2789                               NaN  \n",
       "2790                               NaN  \n",
       "\n",
       "[2791 rows x 193 columns]"
      ]
     },
     "execution_count": 12,
     "metadata": {},
     "output_type": "execute_result"
    }
   ],
   "source": [
    "df_merge = pd.merge(df_magpie, df_deml)\n",
    "df_merge"
   ]
  },
  {
   "cell_type": "markdown",
   "metadata": {},
   "source": [
    "Define one more feature - metal/nonmenetal "
   ]
  },
  {
   "cell_type": "code",
   "execution_count": 13,
   "metadata": {},
   "outputs": [],
   "source": [
    "df_merge['(non)metal'] = np.nan"
   ]
  },
  {
   "cell_type": "code",
   "execution_count": 14,
   "metadata": {},
   "outputs": [],
   "source": [
    "# If metal (band gap=0), then (non)mental = 0, else (non)mental = 1\n",
    "for i in range(0, len(df_merge['E'])):\n",
    "    if df_merge['E'][i] < 0.0001:\n",
    "        df_merge['(non)metal'][i]=0\n",
    "    else:\n",
    "        df_merge['(non)metal'][i]=1"
   ]
  },
  {
   "cell_type": "markdown",
   "metadata": {},
   "source": [
    "We also add the column with metal/nonmetal for based on DFT calculation from OQMD "
   ]
  },
  {
   "cell_type": "code",
   "execution_count": 15,
   "metadata": {},
   "outputs": [],
   "source": [
    "df_merge['(non)metal_DFT'] = np.nan"
   ]
  },
  {
   "cell_type": "code",
   "execution_count": 16,
   "metadata": {},
   "outputs": [],
   "source": [
    "for i in range(0, len(df_merge['band_gap_OQMD'])):\n",
    "    if df_merge['band_gap_OQMD'][i] < 0.0001:\n",
    "        df_merge['(non)metal_DFT'][i]=0\n",
    "    else:\n",
    "        df_merge['(non)metal_DFT'][i]=1"
   ]
  },
  {
   "cell_type": "markdown",
   "metadata": {},
   "source": [
    "# Feauture engineering\n",
    "\n",
    "We now turn to the feature enegenering. Define some useful functions"
   ]
  },
  {
   "cell_type": "code",
   "execution_count": 18,
   "metadata": {},
   "outputs": [],
   "source": [
    "#This function takes a DataFrame as input and returns two columns, total missing values and total missing values percentage\n",
    "def missing_percentage(df):\n",
    "    total = df.isnull().sum().sort_values(ascending = False)[df.isnull().sum().sort_values(ascending = False) != 0]\n",
    "    percent = round(df.isnull().sum().sort_values(ascending = False)/len(df)*100,2)[round(df.isnull().sum().sort_values(ascending = False)/len(df)*100,2) != 0]\n",
    "    return pd.concat([total, percent], axis=1, keys=['Total','Percent'])"
   ]
  },
  {
   "cell_type": "code",
   "execution_count": 19,
   "metadata": {},
   "outputs": [],
   "source": [
    "#Drop all the columns with missing percent greater than \"threshold\"\n",
    "def drop_missing(df, threshold=3):\n",
    "    dropped = []\n",
    "    for i in range(0, len(missing_percentage(df).Percent.index)):\n",
    "        if missing_percentage(df).Percent[i] > threshold:\n",
    "            dropped.append(missing_percentage(df).Percent.index[i])\n",
    "    df = df.drop(columns=dropped)\n",
    "    print(dropped)\n",
    "    return df"
   ]
  },
  {
   "cell_type": "code",
   "execution_count": 20,
   "metadata": {},
   "outputs": [],
   "source": [
    "# List all the columns\n",
    "def col(df):\n",
    "    for i in df.columns:\n",
    "        print(i)"
   ]
  },
  {
   "cell_type": "markdown",
   "metadata": {},
   "source": [
    "Drop all the columns with missing percent greater than \"threshold\""
   ]
  },
  {
   "cell_type": "code",
   "execution_count": 21,
   "metadata": {},
   "outputs": [
    {
     "name": "stdout",
     "output_type": "stream",
     "text": [
      "['DemlData range GGAU_Etot', 'DemlData mean mus_fere', 'DemlData minimum GGAU_Etot', 'DemlData maximum GGAU_Etot', 'DemlData mean GGAU_Etot', 'DemlData std_dev GGAU_Etot', 'DemlData minimum mus_fere', 'DemlData maximum mus_fere', 'DemlData range mus_fere', 'DemlData std_dev mus_fere', 'DemlData minimum FERE correction', 'DemlData maximum FERE correction', 'DemlData range FERE correction', 'DemlData mean FERE correction', 'DemlData std_dev FERE correction', 'DemlData mean electric_pol', 'DemlData minimum electric_pol', 'DemlData range electric_pol', 'DemlData maximum electric_pol', 'DemlData std_dev electric_pol', 'DemlData mean heat_cap', 'DemlData minimum heat_cap', 'DemlData maximum heat_cap', 'DemlData range heat_cap', 'DemlData std_dev heat_cap', 'DemlData mean heat_fusion', 'DemlData std_dev heat_fusion', 'DemlData minimum heat_fusion', 'DemlData range heat_fusion', 'DemlData maximum heat_fusion', 'DemlData std_dev atom_radius', 'DemlData mean atom_radius', 'DemlData range atom_radius', 'DemlData maximum atom_radius', 'DemlData minimum atom_radius', 'DemlData minimum molar_vol', 'DemlData maximum molar_vol', 'DemlData range molar_vol', 'DemlData std_dev molar_vol', 'DemlData mean molar_vol', 'DemlData mean boiling_point', 'DemlData minimum boiling_point', 'DemlData minimum first_ioniz', 'DemlData maximum boiling_point', 'DemlData std_dev first_ioniz', 'DemlData mean first_ioniz', 'DemlData maximum first_ioniz', 'DemlData range first_ioniz', 'DemlData std_dev boiling_point', 'DemlData range boiling_point']\n"
     ]
    }
   ],
   "source": [
    "df_merge = drop_missing(df_merge, threshold=1)"
   ]
  },
  {
   "cell_type": "markdown",
   "metadata": {},
   "source": [
    "## Genetic algorithm for feature selection "
   ]
  },
  {
   "cell_type": "code",
   "execution_count": 70,
   "metadata": {},
   "outputs": [],
   "source": [
    "from sklearn.preprocessing import LabelEncoder\n",
    "from xgboost import XGBClassifier\n",
    "from sklearn.metrics import accuracy_score\n",
    "from deap import creator, base, tools, algorithms\n",
    "from scoop import futures\n",
    "from scipy import interpolate\n",
    "import random"
   ]
  },
  {
   "cell_type": "code",
   "execution_count": null,
   "metadata": {},
   "outputs": [],
   "source": [
    "# Define feature which will be used for the prediction of target. The target is whether a given compound metal or insulator (the value of '(non)metal')\n",
    "features = []\n",
    "for col in df_merge.columns:\n",
    "    features+=[str(col)]\n",
    "to_remove = ['composition', 'E', 'formula', '(non)metal']\n",
    "for i in to_remove:\n",
    "    features.remove(i)"
   ]
  },
  {
   "cell_type": "code",
   "execution_count": 71,
   "metadata": {},
   "outputs": [],
   "source": [
    "# Define train data and target    \n",
    "X = df_merge[features]\n",
    "y = df_merge['(non)metal']"
   ]
  },
  {
   "cell_type": "code",
   "execution_count": 72,
   "metadata": {},
   "outputs": [],
   "source": [
    "le = LabelEncoder()\n",
    "le.fit(df_merge['(non)metal'])\n",
    "allClasses = le.transform(df_merge['(non)metal'])\n",
    "allFeatures = df_merge.drop(to_remove, axis=1)"
   ]
  },
  {
   "cell_type": "code",
   "execution_count": 73,
   "metadata": {},
   "outputs": [],
   "source": [
    "# define cross validation strategy\n",
    "def accuracy_score_cv(model,X,y):\n",
    "    accur = cross_val_score(model, X, y, scoring=\"accuracy\", cv=10)\n",
    "    return accur"
   ]
  },
  {
   "cell_type": "markdown",
   "metadata": {},
   "source": [
    "We will use DEAP module for the genetic algorithm for feature selection. The code written below is the modification of the code taken from [here](https://github.com/scoliann/GeneticAlgorithmFeatureSelection/blob/master/gaFeatureSelectionExample.py). Define some useful functions"
   ]
  },
  {
   "cell_type": "code",
   "execution_count": 74,
   "metadata": {},
   "outputs": [],
   "source": [
    "# This function takes 'individual', which is a set of features of the data X and target y\n",
    "def getFitness(individual, X, y):\n",
    "    # Parse our feature columns that we don't use\n",
    "    # Apply one hot encoding to the features\n",
    "    cols = [index for index in range(len(individual)) if individual[index] == 0]\n",
    "    X_Parsed = X.drop(X.columns[cols], axis=1)\n",
    "    X_OhFeatures = pd.get_dummies(X_Parsed)\n",
    "\n",
    "    \n",
    "    # Apply logistic regression on the data, and calculate accuracy\n",
    "    clf = XGBClassifier()\n",
    "    accuracy = accuracy_score_cv(clf, X_OhFeatures, y).mean()\n",
    "\n",
    "    # Return calculated accuracy as fitness\n",
    "    return (accuracy,)"
   ]
  },
  {
   "cell_type": "code",
   "execution_count": 75,
   "metadata": {},
   "outputs": [],
   "source": [
    "\"\"\"\n",
    "This defines strategy of the genetic algorithm. The genetic algorithm is tuned in such a way that during the evolution the accuracy value should have its maximum value\n",
    "\"\"\"\n",
    "creator.create(\"FitnessMax\", base.Fitness, weights=(1.0,))\n",
    "creator.create(\"Individual\", list, fitness=creator.FitnessMax)\n",
    "\n",
    "# Create Toolbox\n",
    "toolbox = base.Toolbox()\n",
    "toolbox.register(\"attr_bool\", random.randint, 0, 1)\n",
    "toolbox.register(\"individual\", tools.initRepeat, creator.Individual, toolbox.attr_bool, len(df_merge.columns) - len(to_remove))\n",
    "toolbox.register(\"population\", tools.initRepeat, list, toolbox.individual)\n",
    "\n",
    "# Continue filling toolbox...\n",
    "toolbox.register(\"evaluate\", getFitness, X=X, y=y)\n",
    "toolbox.register(\"mate\", tools.cxOnePoint)\n",
    "toolbox.register(\"mutate\", tools.mutFlipBit, indpb=0.05)\n",
    "toolbox.register(\"select\", tools.selTournament, tournsize=3)"
   ]
  },
  {
   "cell_type": "code",
   "execution_count": 76,
   "metadata": {},
   "outputs": [],
   "source": [
    "# This function gives hall of fame (the set of individuals with the best performance)\n",
    "def getHof():\n",
    "\n",
    "    # Initialize variables to use eaSimple\n",
    "    numPop = 100\n",
    "    numGen = 8\n",
    "    pop = toolbox.population(n=numPop)\n",
    "    hof = tools.HallOfFame(numPop * numGen)\n",
    "    stats = tools.Statistics(lambda ind: ind.fitness.values)\n",
    "    stats.register(\"avg\", np.mean)\n",
    "    stats.register(\"std\", np.std)\n",
    "    stats.register(\"min\", np.min)\n",
    "    stats.register(\"max\", np.max)\n",
    "\n",
    "    # Launch genetic algorithm\n",
    "    pop, log = algorithms.eaSimple(pop, toolbox, cxpb=0.5, mutpb=0.2, ngen=numGen, stats=stats, halloffame=hof, verbose=True)\n",
    "\n",
    "    # Return the hall of fame\n",
    "    return hof"
   ]
  },
  {
   "cell_type": "code",
   "execution_count": 77,
   "metadata": {},
   "outputs": [],
   "source": [
    "def getMetrics(hof):\n",
    "\n",
    "    # Get list of percentiles in the hall of fame\n",
    "    percentileList = [i / (len(hof) - 1) for i in range(len(hof))]\n",
    "    \n",
    "    # Gather fitness data from each percentile\n",
    "    AccuracyList = []\n",
    "    individualList = []\n",
    "    for individual in hof:\n",
    "        Accuracy = getFitness(individual, X, y)\n",
    "        AccuracyList.append(Accuracy[0])\n",
    "        individualList.append(individual)\n",
    "        \n",
    "    return AccuracyList, individualList, percentileList"
   ]
  },
  {
   "cell_type": "code",
   "execution_count": 78,
   "metadata": {},
   "outputs": [
    {
     "name": "stdout",
     "output_type": "stream",
     "text": [
      "\n",
      "Accuracy with all features: \t0.946251920122888\n",
      "gen\tnevals\tavg     \tstd      \tmin     \tmax     \n",
      "0  \t100   \t0.939133\t0.0054188\t0.925826\t0.949835\n",
      "1  \t60    \t0.94362 \t0.00363724\t0.922965\t0.95055 \n",
      "2  \t53    \t0.945149\t0.00235421\t0.938011\t0.950196\n",
      "3  \t66    \t0.945873\t0.00243043\t0.935854\t0.950196\n",
      "4  \t59    \t0.946425\t0.00261436\t0.934782\t0.951269\n",
      "5  \t63    \t0.947109\t0.00234374\t0.938729\t0.95163 \n",
      "6  \t54    \t0.948309\t0.00220796\t0.938006\t0.954135\n",
      "7  \t59    \t0.948761\t0.00227003\t0.94303 \t0.954135\n",
      "8  \t55    \t0.949184\t0.00215982\t0.943386\t0.954135\n",
      "\n",
      "---Optimal Feature Subset(s)---\n",
      "\n",
      "Percentile: \t\t\t0.0\n",
      "Accuracy: \t\t0.9541346646185357\n",
      "Individual: \t[1, 1, 1, 1, 1, 1, 0, 1, 0, 0, 0, 0, 1, 1, 1, 0, 0, 0, 1, 0, 0, 0, 1, 0, 1, 1, 1, 1, 0, 1, 1, 0, 1, 0, 0, 1, 1, 0, 0, 1, 0, 0, 0, 0, 1, 1, 0, 1, 0, 1, 0, 1, 0, 0, 1, 0, 0, 0, 1, 0, 0, 1, 0, 1, 0, 0, 0, 1, 1, 1, 1, 0, 0, 1, 0, 0, 0, 1, 0, 0, 1, 1, 0, 1, 1, 0, 0, 1, 1, 1, 0, 0, 1, 0, 1, 1, 0, 1, 1, 0, 1, 0, 1, 1, 1, 1, 1, 1, 1, 0, 0, 1, 1, 1, 0, 0, 1, 0, 0, 0, 1, 0, 0, 1, 1, 0, 1, 1, 1, 1, 1, 1, 0, 1, 0, 0, 1, 1, 1, 0, 1]\n",
      "Number Features In Subset: \t75\n",
      "Feature Subset: ['band_gap_OQMD', '0-norm', '2-norm', '3-norm', '5-norm', '7-norm', 'MagpieData minimum Number', 'MagpieData mode Number', 'MagpieData minimum MendeleevNumber', 'MagpieData maximum MendeleevNumber', 'MagpieData mode MendeleevNumber', 'MagpieData mean AtomicWeight', 'MagpieData mode AtomicWeight', 'MagpieData minimum MeltingT', 'MagpieData maximum MeltingT', 'MagpieData range MeltingT', 'MagpieData avg_dev MeltingT', 'MagpieData mode MeltingT', 'MagpieData maximum Column', 'MagpieData avg_dev Column', 'MagpieData mode Column', 'MagpieData range Row', 'MagpieData maximum CovalentRadius', 'MagpieData range CovalentRadius', 'MagpieData avg_dev CovalentRadius', 'MagpieData minimum Electronegativity', 'MagpieData range Electronegativity', 'MagpieData mode Electronegativity', 'MagpieData mean NsValence', 'MagpieData minimum NpValence', 'MagpieData range NpValence', 'MagpieData minimum NdValence', 'MagpieData maximum NdValence', 'MagpieData range NdValence', 'MagpieData mean NdValence', 'MagpieData minimum NfValence', 'MagpieData avg_dev NfValence', 'MagpieData maximum NValence', 'MagpieData range NValence', 'MagpieData avg_dev NValence', 'MagpieData mode NValence', 'MagpieData range NsUnfilled', 'MagpieData mean NsUnfilled', 'MagpieData avg_dev NsUnfilled', 'MagpieData maximum NpUnfilled', 'MagpieData mean NpUnfilled', 'MagpieData avg_dev NpUnfilled', 'MagpieData minimum NdUnfilled', 'MagpieData maximum NdUnfilled', 'MagpieData mean NdUnfilled', 'MagpieData mode NdUnfilled', 'MagpieData minimum NfUnfilled', 'MagpieData maximum NfUnfilled', 'MagpieData range NfUnfilled', 'MagpieData mean NfUnfilled', 'MagpieData avg_dev NfUnfilled', 'MagpieData mode NfUnfilled', 'MagpieData range NUnfilled', 'MagpieData mean NUnfilled', 'MagpieData avg_dev NUnfilled', 'MagpieData maximum GSvolume_pa', 'MagpieData mode GSvolume_pa', 'MagpieData range GSbandgap', 'MagpieData mean GSbandgap', 'MagpieData mode GSbandgap', 'MagpieData minimum GSmagmom', 'MagpieData maximum GSmagmom', 'MagpieData range GSmagmom', 'MagpieData mean GSmagmom', 'MagpieData avg_dev GSmagmom', 'avg s valence electrons', 'avg f valence electrons', 'compound possible', 'max ionic char', '(non)metal_DFT']\n"
     ]
    }
   ],
   "source": [
    "'''\n",
    "First, we will apply XGBoost regressor using all the features to acquire a baseline accuracy.\n",
    "'''\n",
    "individual = [1 for i in range(len(X.columns))]\n",
    "Accuracy = getFitness(individual, X, y)\n",
    "print('\\nAccuracy with all features: \\t' + str(Accuracy[0]))\n",
    "\n",
    "'''\n",
    "Now, we will apply a genetic algorithm to choose a subset of features that gives a better accuracy than the baseline.\n",
    "'''\n",
    "hof = getHof()\n",
    "AccuracyList, individualList, percentileList = getMetrics(hof)\n",
    "\n",
    "# Get a list of subsets that performed best on validation data \n",
    "maxValAccSubsetIndicies = [index for index in range(len(AccuracyList)) if AccuracyList[index] == max(AccuracyList)]\n",
    "maxValIndividuals = [individualList[index] for index in maxValAccSubsetIndicies]\n",
    "maxValSubsets = [[list(features)[index] for index in range(len(individual)) if individual[index] == 1] for individual in maxValIndividuals]\n",
    "\n",
    "print('\\n---Optimal Feature Subset(s)---\\n')\n",
    "for index in range(len(maxValAccSubsetIndicies)):\n",
    "    print('Percentile: \\t\\t\\t' + str(percentileList[maxValAccSubsetIndicies[index]]))\n",
    "    print('Accuracy: \\t\\t' + str(AccuracyList[maxValAccSubsetIndicies[index]]))\n",
    "    print('Individual: \\t' + str(maxValIndividuals[index]))\n",
    "    print('Number Features In Subset: \\t' + str(len(maxValSubsets[index])))\n",
    "    print('Feature Subset: ' + str(maxValSubsets[index]))"
   ]
  },
  {
   "cell_type": "markdown",
   "metadata": {},
   "source": [
    "We thus have found the optimal set of features"
   ]
  },
  {
   "cell_type": "code",
   "execution_count": 79,
   "metadata": {},
   "outputs": [],
   "source": [
    "features_optimal = ['band_gap_OQMD', '0-norm', '2-norm', '3-norm', '5-norm', '7-norm', 'MagpieData minimum Number', 'MagpieData mode Number', 'MagpieData minimum MendeleevNumber', 'MagpieData maximum MendeleevNumber', 'MagpieData mode MendeleevNumber', 'MagpieData mean AtomicWeight', 'MagpieData mode AtomicWeight', 'MagpieData minimum MeltingT', 'MagpieData maximum MeltingT', 'MagpieData range MeltingT', 'MagpieData avg_dev MeltingT', 'MagpieData mode MeltingT', 'MagpieData maximum Column', 'MagpieData avg_dev Column', 'MagpieData mode Column', 'MagpieData range Row', 'MagpieData maximum CovalentRadius', 'MagpieData range CovalentRadius', 'MagpieData avg_dev CovalentRadius', 'MagpieData minimum Electronegativity', 'MagpieData range Electronegativity', 'MagpieData mode Electronegativity', 'MagpieData mean NsValence', 'MagpieData minimum NpValence', 'MagpieData range NpValence', 'MagpieData minimum NdValence', 'MagpieData maximum NdValence', 'MagpieData range NdValence', 'MagpieData mean NdValence', 'MagpieData minimum NfValence', 'MagpieData avg_dev NfValence', 'MagpieData maximum NValence', 'MagpieData range NValence', 'MagpieData avg_dev NValence', 'MagpieData mode NValence', 'MagpieData range NsUnfilled', 'MagpieData mean NsUnfilled', 'MagpieData avg_dev NsUnfilled', 'MagpieData maximum NpUnfilled', 'MagpieData mean NpUnfilled', 'MagpieData avg_dev NpUnfilled', 'MagpieData minimum NdUnfilled', 'MagpieData maximum NdUnfilled', 'MagpieData mean NdUnfilled', 'MagpieData mode NdUnfilled', 'MagpieData minimum NfUnfilled', 'MagpieData maximum NfUnfilled', 'MagpieData range NfUnfilled', 'MagpieData mean NfUnfilled', 'MagpieData avg_dev NfUnfilled', 'MagpieData mode NfUnfilled', 'MagpieData range NUnfilled', 'MagpieData mean NUnfilled', 'MagpieData avg_dev NUnfilled', 'MagpieData maximum GSvolume_pa', 'MagpieData mode GSvolume_pa', 'MagpieData range GSbandgap', 'MagpieData mean GSbandgap', 'MagpieData mode GSbandgap', 'MagpieData minimum GSmagmom', 'MagpieData maximum GSmagmom', 'MagpieData range GSmagmom', 'MagpieData mean GSmagmom', 'MagpieData avg_dev GSmagmom', 'avg s valence electrons', 'avg f valence electrons', 'compound possible', 'max ionic char', '(non)metal_DFT']"
   ]
  },
  {
   "cell_type": "markdown",
   "metadata": {},
   "source": [
    "Let's test it once again"
   ]
  },
  {
   "cell_type": "code",
   "execution_count": 91,
   "metadata": {},
   "outputs": [
    {
     "data": {
      "text/plain": [
       "0.9541346646185357"
      ]
     },
     "execution_count": 91,
     "metadata": {},
     "output_type": "execute_result"
    }
   ],
   "source": [
    "X = df_merge[features_optimal]\n",
    "y = df_merge['(non)metal']\n",
    "model = XGBClassifier()\n",
    "accuracy_score_cv(model, X, y).mean()"
   ]
  },
  {
   "cell_type": "markdown",
   "metadata": {},
   "source": [
    "So, the accuracy value is higher then the baseline 0.946. Let us now compare it with the accuracy of DFT calculations "
   ]
  },
  {
   "cell_type": "code",
   "execution_count": 89,
   "metadata": {},
   "outputs": [
    {
     "data": {
      "text/plain": [
       "0.8993192404156216"
      ]
     },
     "execution_count": 89,
     "metadata": {},
     "output_type": "execute_result"
    }
   ],
   "source": [
    "accuracy_score(df_merge['(non)metal'], df_merge['(non)metal_DFT'])"
   ]
  }
 ],
 "metadata": {
  "kernelspec": {
   "display_name": "Python 3",
   "language": "python",
   "name": "python3"
  },
  "language_info": {
   "codemirror_mode": {
    "name": "ipython",
    "version": 3
   },
   "file_extension": ".py",
   "mimetype": "text/x-python",
   "name": "python",
   "nbconvert_exporter": "python",
   "pygments_lexer": "ipython3",
   "version": "3.6.9"
  }
 },
 "nbformat": 4,
 "nbformat_minor": 4
}
