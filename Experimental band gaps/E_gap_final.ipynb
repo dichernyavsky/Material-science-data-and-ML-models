{
 "cells": [
  {
   "cell_type": "markdown",
   "metadata": {},
   "source": [
    "# Band gap prediction \n",
    "This notebook uses the expdf_mergetal data of  [Zhau et al.](https://pubs.acs.org/doi/10.1021/acs.jpclett.8b00124) on predicting the band gap. "
   ]
  },
  {
   "cell_type": "code",
   "execution_count": 259,
   "metadata": {},
   "outputs": [],
   "source": [
    "%matplotlib inline\n",
    "from matminer.featurizers.base import MultipleFeaturizer\n",
    "from matminer.featurizers import composition as cf\n",
    "from matminer.featurizers.conversions import StrToComposition\n",
    "from matplotlib import pyplot as plt\n",
    "from matplotlib.colors import LogNorm\n",
    "import numpy as np\n",
    "import pandas as pd\n",
    "import pickle as pkl\n",
    "import seaborn as sns\n",
    "from sklearn import metrics\n",
    "from sklearn.model_selection import cross_val_score, cross_val_predict, GridSearchCV, ShuffleSplit, KFold\n",
    "\n",
    "import matplotlib.gridspec as gridspec\n",
    "from datetime import datetime\n",
    "from scipy.stats import skew  # for some statistics\n",
    "from scipy.special import boxcox1p\n",
    "from scipy.stats import boxcox_normmax\n",
    "from sklearn.linear_model import ElasticNetCV, ElasticNet, LassoCV,Lasso, RidgeCV, Ridge, LinearRegression\n",
    "from sklearn.ensemble import GradientBoostingRegressor, RandomForestRegressor\n",
    "from sklearn.svm import SVR, LinearSVR\n",
    "from sklearn.pipeline import make_pipeline\n",
    "from sklearn.preprocessing import RobustScaler\n",
    "from sklearn.model_selection import KFold, cross_val_score\n",
    "from sklearn.metrics import mean_squared_error\n",
    "from mlxtend.regressor import StackingCVRegressor, StackingRegressor\n",
    "from xgboost import XGBRegressor\n",
    "from lightgbm import LGBMRegressor\n",
    "import matplotlib.pyplot as plt\n",
    "import scipy.stats as stats\n",
    "import sklearn.linear_model as linear_model\n",
    "import matplotlib.style as style\n",
    "import seaborn as sns\n",
    "from sklearn.manifold import TSNE\n",
    "from sklearn.cluster import KMeans\n",
    "from sklearn.decomposition import PCA\n",
    "from sklearn import preprocessing\n",
    "from sklearn.preprocessing import StandardScaler\n",
    "\n",
    "\n",
    "import warnings\n",
    "warnings.filterwarnings('ignore')"
   ]
  },
  {
   "cell_type": "markdown",
   "metadata": {},
   "source": [
    "### Download the Data\n",
    "We download the experimental data provided in the paper [Zhau et al.](https://pubs.acs.org/doi/10.1021/acs.jpclett.8b00124)"
   ]
  },
  {
   "cell_type": "code",
   "execution_count": 20,
   "metadata": {},
   "outputs": [],
   "source": [
    "#read file\n",
    "data = pd.read_excel('/home/dima/Desktop/ML/Band_gaps_data/jz8b00124_si_002.xlsx')"
   ]
  },
  {
   "cell_type": "markdown",
   "metadata": {},
   "source": [
    "Let's see what we have"
   ]
  },
  {
   "cell_type": "code",
   "execution_count": 21,
   "metadata": {},
   "outputs": [
    {
     "data": {
      "text/html": [
       "<div>\n",
       "<style scoped>\n",
       "    .dataframe tbody tr th:only-of-type {\n",
       "        vertical-align: middle;\n",
       "    }\n",
       "\n",
       "    .dataframe tbody tr th {\n",
       "        vertical-align: top;\n",
       "    }\n",
       "\n",
       "    .dataframe thead th {\n",
       "        text-align: right;\n",
       "    }\n",
       "</style>\n",
       "<table border=\"1\" class=\"dataframe\">\n",
       "  <thead>\n",
       "    <tr style=\"text-align: right;\">\n",
       "      <th></th>\n",
       "      <th>Eg (eV)</th>\n",
       "    </tr>\n",
       "  </thead>\n",
       "  <tbody>\n",
       "    <tr>\n",
       "      <th>count</th>\n",
       "      <td>6354.000000</td>\n",
       "    </tr>\n",
       "    <tr>\n",
       "      <th>mean</th>\n",
       "      <td>1.252162</td>\n",
       "    </tr>\n",
       "    <tr>\n",
       "      <th>std</th>\n",
       "      <td>1.539951</td>\n",
       "    </tr>\n",
       "    <tr>\n",
       "      <th>min</th>\n",
       "      <td>0.000000</td>\n",
       "    </tr>\n",
       "    <tr>\n",
       "      <th>25%</th>\n",
       "      <td>0.000000</td>\n",
       "    </tr>\n",
       "    <tr>\n",
       "      <th>50%</th>\n",
       "      <td>0.710000</td>\n",
       "    </tr>\n",
       "    <tr>\n",
       "      <th>75%</th>\n",
       "      <td>2.129750</td>\n",
       "    </tr>\n",
       "    <tr>\n",
       "      <th>max</th>\n",
       "      <td>11.700000</td>\n",
       "    </tr>\n",
       "  </tbody>\n",
       "</table>\n",
       "</div>"
      ],
      "text/plain": [
       "           Eg (eV)\n",
       "count  6354.000000\n",
       "mean      1.252162\n",
       "std       1.539951\n",
       "min       0.000000\n",
       "25%       0.000000\n",
       "50%       0.710000\n",
       "75%       2.129750\n",
       "max      11.700000"
      ]
     },
     "execution_count": 21,
     "metadata": {},
     "output_type": "execute_result"
    }
   ],
   "source": [
    "data.describe()"
   ]
  },
  {
   "cell_type": "markdown",
   "metadata": {},
   "source": [
    "Rename the columns to make the rest of the code more succinct"
   ]
  },
  {
   "cell_type": "code",
   "execution_count": 22,
   "metadata": {},
   "outputs": [],
   "source": [
    "data = data.rename(columns={'Eg (eV)': 'E'})"
   ]
  },
  {
   "cell_type": "markdown",
   "metadata": {},
   "source": [
    "Make all the `E` values to be numeric"
   ]
  },
  {
   "cell_type": "code",
   "execution_count": 23,
   "metadata": {},
   "outputs": [],
   "source": [
    "for k in ['E']:\n",
    "    data[k] = pd.to_numeric(data[k])"
   ]
  },
  {
   "cell_type": "markdown",
   "metadata": {},
   "source": [
    "Drop all the NaN's"
   ]
  },
  {
   "cell_type": "code",
   "execution_count": 35,
   "metadata": {},
   "outputs": [
    {
     "name": "stdout",
     "output_type": "stream",
     "text": [
      "Removed 0/6339 entries\n"
     ]
    }
   ],
   "source": [
    "original_count = len(data)\n",
    "data.dropna(subset=['E'], inplace=True)\n",
    "print('Removed %d/%d entries'%(original_count - len(data), original_count))"
   ]
  },
  {
   "cell_type": "markdown",
   "metadata": {},
   "source": [
    "So, there is now null data in 'E'"
   ]
  },
  {
   "cell_type": "markdown",
   "metadata": {},
   "source": [
    "Reindex the data"
   ]
  },
  {
   "cell_type": "code",
   "execution_count": 25,
   "metadata": {},
   "outputs": [],
   "source": [
    "data.index = np.arange(len(data))"
   ]
  },
  {
   "cell_type": "markdown",
   "metadata": {},
   "source": [
    "There are many duplicated compounds with a bit different values of band gaps. \n",
    "These probably correspond to different mesaurments.\n",
    "We repalce duplicates by mean values"
   ]
  },
  {
   "cell_type": "code",
   "execution_count": 26,
   "metadata": {},
   "outputs": [
    {
     "name": "stdout",
     "output_type": "stream",
     "text": [
      "CPU times: user 7min, sys: 0 ns, total: 7min\n",
      "Wall time: 7min\n"
     ]
    }
   ],
   "source": [
    "%%time\n",
    "for i in range(0,len(data)):\n",
    "    p=1\n",
    "    for k in range(i+1,len(data)):\n",
    "        if data['composition'][i]==data['composition'][k]:\n",
    "            data['E'][i] += data['E'][k]\n",
    "            p+=1\n",
    "        if k==(len(data)-1):\n",
    "            data['E'][i]=data['E'][i]/p"
   ]
  },
  {
   "cell_type": "code",
   "execution_count": 38,
   "metadata": {},
   "outputs": [
    {
     "name": "stdout",
     "output_type": "stream",
     "text": [
      "Removed 0/4930 entries\n"
     ]
    }
   ],
   "source": [
    "original_count = len(data)\n",
    "data.drop_duplicates('composition', keep='first', inplace=True)\n",
    "print('Removed %d/%d entries'%(original_count - len(data), original_count))"
   ]
  },
  {
   "cell_type": "code",
   "execution_count": 39,
   "metadata": {},
   "outputs": [
    {
     "data": {
      "image/png": "[encoded data removed]",
      "text/plain": [
       "<Figure size 432x288 with 1 Axes>"
      ]
     },
     "metadata": {
      "needs_background": "light"
     },
     "output_type": "display_data"
    }
   ],
   "source": [
    "# See the outliers\n",
    "sns.boxplot(data=data, palette='rainbow', orient='h');"
   ]
  },
  {
   "cell_type": "markdown",
   "metadata": {},
   "source": [
    "Remove outliers: remove all the compounds with band gap greater then 9"
   ]
  },
  {
   "cell_type": "code",
   "execution_count": 40,
   "metadata": {},
   "outputs": [
    {
     "name": "stdout",
     "output_type": "stream",
     "text": [
      "Removed 0/4930 entries\n"
     ]
    }
   ],
   "source": [
    "original_count = len(data)\n",
    "data = data[np.logical_and(data['E'] >= 0, data['E'] <= 9)]\n",
    "print('Removed %d/%d entries'%(original_count - len(data), original_count))"
   ]
  },
  {
   "cell_type": "markdown",
   "metadata": {},
   "source": [
    "Save the data"
   ]
  },
  {
   "cell_type": "code",
   "execution_count": 41,
   "metadata": {},
   "outputs": [],
   "source": [
    "data.to_csv('reworked_data.csv', header=True, index=False)"
   ]
  },
  {
   "cell_type": "markdown",
   "metadata": {},
   "source": [
    "## Feauture generating\n",
    "Here we will generate features starting from soichiometry only."
   ]
  },
  {
   "cell_type": "code",
   "execution_count": 153,
   "metadata": {},
   "outputs": [],
   "source": [
    "data = pd.read_csv(\"/home/dima/Desktop/ML/Data/reworked_data_bandgap.csv\")"
   ]
  },
  {
   "cell_type": "code",
   "execution_count": 154,
   "metadata": {},
   "outputs": [
    {
     "data": {
      "text/html": [
       "<div>\n",
       "<style scoped>\n",
       "    .dataframe tbody tr th:only-of-type {\n",
       "        vertical-align: middle;\n",
       "    }\n",
       "\n",
       "    .dataframe tbody tr th {\n",
       "        vertical-align: top;\n",
       "    }\n",
       "\n",
       "    .dataframe thead th {\n",
       "        text-align: right;\n",
       "    }\n",
       "</style>\n",
       "<table border=\"1\" class=\"dataframe\">\n",
       "  <thead>\n",
       "    <tr style=\"text-align: right;\">\n",
       "      <th></th>\n",
       "      <th>composition</th>\n",
       "      <th>E</th>\n",
       "    </tr>\n",
       "  </thead>\n",
       "  <tbody>\n",
       "    <tr>\n",
       "      <th>0</th>\n",
       "      <td>Hg0.7Cd0.3Te</td>\n",
       "      <td>0.310000</td>\n",
       "    </tr>\n",
       "    <tr>\n",
       "      <th>1</th>\n",
       "      <td>CuBr</td>\n",
       "      <td>2.998325</td>\n",
       "    </tr>\n",
       "    <tr>\n",
       "      <th>2</th>\n",
       "      <td>LuP</td>\n",
       "      <td>1.300000</td>\n",
       "    </tr>\n",
       "    <tr>\n",
       "      <th>3</th>\n",
       "      <td>Cu3SbSe4</td>\n",
       "      <td>0.355000</td>\n",
       "    </tr>\n",
       "    <tr>\n",
       "      <th>4</th>\n",
       "      <td>ZnO</td>\n",
       "      <td>3.402809</td>\n",
       "    </tr>\n",
       "  </tbody>\n",
       "</table>\n",
       "</div>"
      ],
      "text/plain": [
       "    composition         E\n",
       "0  Hg0.7Cd0.3Te  0.310000\n",
       "1          CuBr  2.998325\n",
       "2           LuP  1.300000\n",
       "3      Cu3SbSe4  0.355000\n",
       "4           ZnO  3.402809"
      ]
     },
     "execution_count": 154,
     "metadata": {},
     "output_type": "execute_result"
    }
   ],
   "source": [
    "data.head()"
   ]
  },
  {
   "cell_type": "markdown",
   "metadata": {},
   "source": [
    "Create new column 'formula' which is a list of the elements of a given compound. It will be needed further for feature generation "
   ]
  },
  {
   "cell_type": "code",
   "execution_count": 155,
   "metadata": {},
   "outputs": [
    {
     "data": {
      "application/vnd.jupyter.widget-view+json": {
       "model_id": "21116c0513e545d89028cd9daf11c8b6",
       "version_major": 2,
       "version_minor": 0
      },
      "text/plain": [
       "HBox(children=(FloatProgress(value=0.0, description='StrToComposition', max=4930.0, style=ProgressStyle(descri…"
      ]
     },
     "metadata": {},
     "output_type": "display_data"
    },
    {
     "name": "stdout",
     "output_type": "stream",
     "text": [
      "\n"
     ]
    }
   ],
   "source": [
    "data = StrToComposition(target_col_id='formula').featurize_dataframe(data, 'composition',  ignore_errors=True)"
   ]
  },
  {
   "cell_type": "markdown",
   "metadata": {},
   "source": [
    "Drop all the NaN's in 'formula'"
   ]
  },
  {
   "cell_type": "code",
   "execution_count": 156,
   "metadata": {},
   "outputs": [
    {
     "name": "stdout",
     "output_type": "stream",
     "text": [
      "Removed 323/4930 entries\n"
     ]
    }
   ],
   "source": [
    "original_count = len(data)\n",
    "data.dropna(subset=['formula'], inplace=True)\n",
    "print('Removed %d/%d entries'%(original_count - len(data), original_count))"
   ]
  },
  {
   "cell_type": "markdown",
   "metadata": {},
   "source": [
    "Generate features with matminer featurizer with 'magpie' preset"
   ]
  },
  {
   "cell_type": "code",
   "execution_count": 157,
   "metadata": {},
   "outputs": [
    {
     "data": {
      "application/vnd.jupyter.widget-view+json": {
       "model_id": "ae51bce690294a6493f91bd9f799cba2",
       "version_major": 2,
       "version_minor": 0
      },
      "text/plain": [
       "HBox(children=(FloatProgress(value=0.0, description='MultipleFeaturizer', max=4607.0, style=ProgressStyle(desc…"
      ]
     },
     "metadata": {},
     "output_type": "display_data"
    },
    {
     "name": "stdout",
     "output_type": "stream",
     "text": [
      "\n"
     ]
    }
   ],
   "source": [
    "from matminer.featurizers.composition import ElementProperty\n",
    "feature_calculators_magpie = MultipleFeaturizer([cf.Stoichiometry(), cf.ElementProperty.from_preset(\"magpie\"),\n",
    "                                          cf.ValenceOrbital(props=['avg']), cf.IonProperty(fast=True)])\n",
    "feature_labels_magpie = feature_calculators_magpie.feature_labels()\n",
    "df_magpie = feature_calculators_magpie.featurize_dataframe(data, col_id='formula', ignore_errors=True)"
   ]
  },
  {
   "cell_type": "code",
   "execution_count": 158,
   "metadata": {},
   "outputs": [
    {
     "data": {
      "text/html": [
       "<div>\n",
       "<style scoped>\n",
       "    .dataframe tbody tr th:only-of-type {\n",
       "        vertical-align: middle;\n",
       "    }\n",
       "\n",
       "    .dataframe tbody tr th {\n",
       "        vertical-align: top;\n",
       "    }\n",
       "\n",
       "    .dataframe thead th {\n",
       "        text-align: right;\n",
       "    }\n",
       "</style>\n",
       "<table border=\"1\" class=\"dataframe\">\n",
       "  <thead>\n",
       "    <tr style=\"text-align: right;\">\n",
       "      <th></th>\n",
       "      <th>composition</th>\n",
       "      <th>E</th>\n",
       "      <th>formula</th>\n",
       "      <th>0-norm</th>\n",
       "      <th>2-norm</th>\n",
       "      <th>3-norm</th>\n",
       "      <th>5-norm</th>\n",
       "      <th>7-norm</th>\n",
       "      <th>10-norm</th>\n",
       "      <th>MagpieData minimum Number</th>\n",
       "      <th>...</th>\n",
       "      <th>MagpieData mean SpaceGroupNumber</th>\n",
       "      <th>MagpieData avg_dev SpaceGroupNumber</th>\n",
       "      <th>MagpieData mode SpaceGroupNumber</th>\n",
       "      <th>avg s valence electrons</th>\n",
       "      <th>avg p valence electrons</th>\n",
       "      <th>avg d valence electrons</th>\n",
       "      <th>avg f valence electrons</th>\n",
       "      <th>compound possible</th>\n",
       "      <th>max ionic char</th>\n",
       "      <th>avg ionic char</th>\n",
       "    </tr>\n",
       "  </thead>\n",
       "  <tbody>\n",
       "    <tr>\n",
       "      <th>0</th>\n",
       "      <td>Hg0.7Cd0.3Te</td>\n",
       "      <td>0.310000</td>\n",
       "      <td>(Hg, Cd, Te)</td>\n",
       "      <td>3</td>\n",
       "      <td>0.628490</td>\n",
       "      <td>0.555320</td>\n",
       "      <td>0.515994</td>\n",
       "      <td>0.505699</td>\n",
       "      <td>0.501395</td>\n",
       "      <td>48.0</td>\n",
       "      <td>...</td>\n",
       "      <td>163.200</td>\n",
       "      <td>11.200</td>\n",
       "      <td>152.0</td>\n",
       "      <td>2.000</td>\n",
       "      <td>2.000</td>\n",
       "      <td>10.0</td>\n",
       "      <td>4.9</td>\n",
       "      <td>True</td>\n",
       "      <td>0.041154</td>\n",
       "      <td>0.004770</td>\n",
       "    </tr>\n",
       "    <tr>\n",
       "      <th>1</th>\n",
       "      <td>CuBr</td>\n",
       "      <td>2.998325</td>\n",
       "      <td>(Cu, Br)</td>\n",
       "      <td>2</td>\n",
       "      <td>0.707107</td>\n",
       "      <td>0.629961</td>\n",
       "      <td>0.574349</td>\n",
       "      <td>0.552045</td>\n",
       "      <td>0.535887</td>\n",
       "      <td>29.0</td>\n",
       "      <td>...</td>\n",
       "      <td>144.500</td>\n",
       "      <td>80.500</td>\n",
       "      <td>64.0</td>\n",
       "      <td>1.500</td>\n",
       "      <td>2.500</td>\n",
       "      <td>10.0</td>\n",
       "      <td>0.0</td>\n",
       "      <td>False</td>\n",
       "      <td>0.244896</td>\n",
       "      <td>0.061224</td>\n",
       "    </tr>\n",
       "    <tr>\n",
       "      <th>2</th>\n",
       "      <td>LuP</td>\n",
       "      <td>1.300000</td>\n",
       "      <td>(Lu, P)</td>\n",
       "      <td>2</td>\n",
       "      <td>0.707107</td>\n",
       "      <td>0.629961</td>\n",
       "      <td>0.574349</td>\n",
       "      <td>0.552045</td>\n",
       "      <td>0.535887</td>\n",
       "      <td>15.0</td>\n",
       "      <td>...</td>\n",
       "      <td>98.000</td>\n",
       "      <td>96.000</td>\n",
       "      <td>2.0</td>\n",
       "      <td>2.000</td>\n",
       "      <td>1.500</td>\n",
       "      <td>0.5</td>\n",
       "      <td>7.0</td>\n",
       "      <td>True</td>\n",
       "      <td>0.190712</td>\n",
       "      <td>0.047678</td>\n",
       "    </tr>\n",
       "    <tr>\n",
       "      <th>3</th>\n",
       "      <td>Cu3SbSe4</td>\n",
       "      <td>0.355000</td>\n",
       "      <td>(Cu, Sb, Se)</td>\n",
       "      <td>3</td>\n",
       "      <td>0.637377</td>\n",
       "      <td>0.564295</td>\n",
       "      <td>0.521836</td>\n",
       "      <td>0.509034</td>\n",
       "      <td>0.502747</td>\n",
       "      <td>29.0</td>\n",
       "      <td>...</td>\n",
       "      <td>112.125</td>\n",
       "      <td>98.125</td>\n",
       "      <td>14.0</td>\n",
       "      <td>1.625</td>\n",
       "      <td>2.375</td>\n",
       "      <td>10.0</td>\n",
       "      <td>0.0</td>\n",
       "      <td>False</td>\n",
       "      <td>0.100238</td>\n",
       "      <td>0.022844</td>\n",
       "    </tr>\n",
       "    <tr>\n",
       "      <th>4</th>\n",
       "      <td>ZnO</td>\n",
       "      <td>3.402809</td>\n",
       "      <td>(Zn, O)</td>\n",
       "      <td>2</td>\n",
       "      <td>0.707107</td>\n",
       "      <td>0.629961</td>\n",
       "      <td>0.574349</td>\n",
       "      <td>0.552045</td>\n",
       "      <td>0.535887</td>\n",
       "      <td>8.0</td>\n",
       "      <td>...</td>\n",
       "      <td>103.000</td>\n",
       "      <td>91.000</td>\n",
       "      <td>12.0</td>\n",
       "      <td>2.000</td>\n",
       "      <td>2.000</td>\n",
       "      <td>5.0</td>\n",
       "      <td>0.0</td>\n",
       "      <td>True</td>\n",
       "      <td>0.551131</td>\n",
       "      <td>0.137783</td>\n",
       "    </tr>\n",
       "  </tbody>\n",
       "</table>\n",
       "<p>5 rows × 148 columns</p>\n",
       "</div>"
      ],
      "text/plain": [
       "    composition         E       formula  0-norm    2-norm    3-norm    5-norm  \\\n",
       "0  Hg0.7Cd0.3Te  0.310000  (Hg, Cd, Te)       3  0.628490  0.555320  0.515994   \n",
       "1          CuBr  2.998325      (Cu, Br)       2  0.707107  0.629961  0.574349   \n",
       "2           LuP  1.300000       (Lu, P)       2  0.707107  0.629961  0.574349   \n",
       "3      Cu3SbSe4  0.355000  (Cu, Sb, Se)       3  0.637377  0.564295  0.521836   \n",
       "4           ZnO  3.402809       (Zn, O)       2  0.707107  0.629961  0.574349   \n",
       "\n",
       "     7-norm   10-norm  MagpieData minimum Number  ...  \\\n",
       "0  0.505699  0.501395                       48.0  ...   \n",
       "1  0.552045  0.535887                       29.0  ...   \n",
       "2  0.552045  0.535887                       15.0  ...   \n",
       "3  0.509034  0.502747                       29.0  ...   \n",
       "4  0.552045  0.535887                        8.0  ...   \n",
       "\n",
       "   MagpieData mean SpaceGroupNumber  MagpieData avg_dev SpaceGroupNumber  \\\n",
       "0                           163.200                               11.200   \n",
       "1                           144.500                               80.500   \n",
       "2                            98.000                               96.000   \n",
       "3                           112.125                               98.125   \n",
       "4                           103.000                               91.000   \n",
       "\n",
       "   MagpieData mode SpaceGroupNumber  avg s valence electrons  \\\n",
       "0                             152.0                    2.000   \n",
       "1                              64.0                    1.500   \n",
       "2                               2.0                    2.000   \n",
       "3                              14.0                    1.625   \n",
       "4                              12.0                    2.000   \n",
       "\n",
       "   avg p valence electrons  avg d valence electrons  avg f valence electrons  \\\n",
       "0                    2.000                     10.0                      4.9   \n",
       "1                    2.500                     10.0                      0.0   \n",
       "2                    1.500                      0.5                      7.0   \n",
       "3                    2.375                     10.0                      0.0   \n",
       "4                    2.000                      5.0                      0.0   \n",
       "\n",
       "   compound possible  max ionic char  avg ionic char  \n",
       "0               True        0.041154        0.004770  \n",
       "1              False        0.244896        0.061224  \n",
       "2               True        0.190712        0.047678  \n",
       "3              False        0.100238        0.022844  \n",
       "4               True        0.551131        0.137783  \n",
       "\n",
       "[5 rows x 148 columns]"
      ]
     },
     "execution_count": 158,
     "metadata": {},
     "output_type": "execute_result"
    }
   ],
   "source": [
    "df_magpie.head()"
   ]
  },
  {
   "cell_type": "markdown",
   "metadata": {},
   "source": [
    "Data now includes space group number (minimum, maximum, avarage) which is useless. Drop space group data"
   ]
  },
  {
   "cell_type": "code",
   "execution_count": 159,
   "metadata": {},
   "outputs": [],
   "source": [
    "dropcol_magpie = ['MagpieData minimum SpaceGroupNumber','MagpieData maximum SpaceGroupNumber','MagpieData range SpaceGroupNumber', 'MagpieData mean SpaceGroupNumber', 'MagpieData avg_dev SpaceGroupNumber', 'MagpieData mode SpaceGroupNumber']\n",
    "df_magpie=df_magpie.drop(columns = dropcol_magpie)\n",
    "for i in dropcol_magpie:\n",
    "    feature_labels_magpie.remove(i)  "
   ]
  },
  {
   "cell_type": "markdown",
   "metadata": {},
   "source": [
    "Generate features with 'deml' preset"
   ]
  },
  {
   "cell_type": "code",
   "execution_count": 160,
   "metadata": {},
   "outputs": [
    {
     "data": {
      "application/vnd.jupyter.widget-view+json": {
       "model_id": "1c18a043416b4d5f9999602d1680c95f",
       "version_major": 2,
       "version_minor": 0
      },
      "text/plain": [
       "HBox(children=(FloatProgress(value=0.0, description='ElementProperty', max=4607.0, style=ProgressStyle(descrip…"
      ]
     },
     "metadata": {},
     "output_type": "display_data"
    },
    {
     "name": "stdout",
     "output_type": "stream",
     "text": [
      "\n"
     ]
    }
   ],
   "source": [
    "from matminer.featurizers.composition import ElementProperty\n",
    "\n",
    "ep_feat = ElementProperty.from_preset(preset_name=\"deml\")\n",
    "df_deml = ep_feat.featurize_dataframe(data, col_id=\"formula\", ignore_errors=True)  # input the \"composition\" column to the featurizer\n",
    "feature_calculators_deml = ep_feat.feature_labels()\n",
    "dropcol_deml = ['DemlData minimum atom_num','DemlData maximum atom_num',\n",
    " 'DemlData range atom_num',\n",
    " 'DemlData mean atom_num',\n",
    " 'DemlData std_dev atom_num',\n",
    " 'DemlData minimum atom_mass',\n",
    " 'DemlData maximum atom_mass',\n",
    " 'DemlData range atom_mass',\n",
    " 'DemlData mean atom_mass',\n",
    " 'DemlData std_dev atom_mass',\n",
    " 'DemlData minimum row_num',\n",
    " 'DemlData maximum row_num','DemlData range row_num', 'DemlData mean row_num', 'DemlData std_dev row_num', 'DemlData minimum col_num', 'DemlData maximum col_num','DemlData range col_num','DemlData mean col_num', 'DemlData std_dev col_num',\n",
    "'DemlData minimum melting_point',\n",
    "'DemlData maximum melting_point',\n",
    "'DemlData range melting_point',\n",
    "'DemlData mean melting_point',\n",
    "'DemlData std_dev melting_point',\n",
    "'DemlData minimum electronegativity',\n",
    "'DemlData maximum electronegativity',\n",
    "'DemlData range electronegativity',\n",
    "'DemlData mean electronegativity',\n",
    "'DemlData std_dev electronegativity']\n",
    "df_deml = df_deml.drop(columns=dropcol_deml)"
   ]
  },
  {
   "cell_type": "markdown",
   "metadata": {},
   "source": [
    "Merge 'magpie' and 'deml' features "
   ]
  },
  {
   "cell_type": "code",
   "execution_count": 235,
   "metadata": {},
   "outputs": [
    {
     "data": {
      "text/html": [
       "<div>\n",
       "<style scoped>\n",
       "    .dataframe tbody tr th:only-of-type {\n",
       "        vertical-align: middle;\n",
       "    }\n",
       "\n",
       "    .dataframe tbody tr th {\n",
       "        vertical-align: top;\n",
       "    }\n",
       "\n",
       "    .dataframe thead th {\n",
       "        text-align: right;\n",
       "    }\n",
       "</style>\n",
       "<table border=\"1\" class=\"dataframe\">\n",
       "  <thead>\n",
       "    <tr style=\"text-align: right;\">\n",
       "      <th></th>\n",
       "      <th>composition</th>\n",
       "      <th>E</th>\n",
       "      <th>formula</th>\n",
       "      <th>0-norm</th>\n",
       "      <th>2-norm</th>\n",
       "      <th>3-norm</th>\n",
       "      <th>5-norm</th>\n",
       "      <th>7-norm</th>\n",
       "      <th>10-norm</th>\n",
       "      <th>MagpieData minimum Number</th>\n",
       "      <th>...</th>\n",
       "      <th>DemlData minimum mus_fere</th>\n",
       "      <th>DemlData maximum mus_fere</th>\n",
       "      <th>DemlData range mus_fere</th>\n",
       "      <th>DemlData mean mus_fere</th>\n",
       "      <th>DemlData std_dev mus_fere</th>\n",
       "      <th>DemlData minimum FERE correction</th>\n",
       "      <th>DemlData maximum FERE correction</th>\n",
       "      <th>DemlData range FERE correction</th>\n",
       "      <th>DemlData mean FERE correction</th>\n",
       "      <th>DemlData std_dev FERE correction</th>\n",
       "    </tr>\n",
       "  </thead>\n",
       "  <tbody>\n",
       "    <tr>\n",
       "      <th>0</th>\n",
       "      <td>Hg0.7Cd0.3Te</td>\n",
       "      <td>0.310000</td>\n",
       "      <td>(Hg, Cd, Te)</td>\n",
       "      <td>3</td>\n",
       "      <td>0.628490</td>\n",
       "      <td>0.555320</td>\n",
       "      <td>0.515994</td>\n",
       "      <td>0.505699</td>\n",
       "      <td>0.501395</td>\n",
       "      <td>48.0</td>\n",
       "      <td>...</td>\n",
       "      <td>-3.250341</td>\n",
       "      <td>-0.123616</td>\n",
       "      <td>3.126725</td>\n",
       "      <td>-1.752436</td>\n",
       "      <td>1.934341</td>\n",
       "      <td>-0.110341</td>\n",
       "      <td>0.350000</td>\n",
       "      <td>0.460341</td>\n",
       "      <td>0.055564</td>\n",
       "      <td>0.226597</td>\n",
       "    </tr>\n",
       "    <tr>\n",
       "      <th>1</th>\n",
       "      <td>CuBr</td>\n",
       "      <td>2.998325</td>\n",
       "      <td>(Cu, Br)</td>\n",
       "      <td>2</td>\n",
       "      <td>0.707107</td>\n",
       "      <td>0.629961</td>\n",
       "      <td>0.574349</td>\n",
       "      <td>0.552045</td>\n",
       "      <td>0.535887</td>\n",
       "      <td>29.0</td>\n",
       "      <td>...</td>\n",
       "      <td>NaN</td>\n",
       "      <td>NaN</td>\n",
       "      <td>NaN</td>\n",
       "      <td>NaN</td>\n",
       "      <td>NaN</td>\n",
       "      <td>NaN</td>\n",
       "      <td>NaN</td>\n",
       "      <td>NaN</td>\n",
       "      <td>NaN</td>\n",
       "      <td>NaN</td>\n",
       "    </tr>\n",
       "    <tr>\n",
       "      <th>2</th>\n",
       "      <td>LuP</td>\n",
       "      <td>1.300000</td>\n",
       "      <td>(Lu, P)</td>\n",
       "      <td>2</td>\n",
       "      <td>0.707107</td>\n",
       "      <td>0.629961</td>\n",
       "      <td>0.574349</td>\n",
       "      <td>0.552045</td>\n",
       "      <td>0.535887</td>\n",
       "      <td>15.0</td>\n",
       "      <td>...</td>\n",
       "      <td>NaN</td>\n",
       "      <td>NaN</td>\n",
       "      <td>NaN</td>\n",
       "      <td>NaN</td>\n",
       "      <td>NaN</td>\n",
       "      <td>NaN</td>\n",
       "      <td>NaN</td>\n",
       "      <td>NaN</td>\n",
       "      <td>NaN</td>\n",
       "      <td>NaN</td>\n",
       "    </tr>\n",
       "    <tr>\n",
       "      <th>3</th>\n",
       "      <td>Cu3SbSe4</td>\n",
       "      <td>0.355000</td>\n",
       "      <td>(Cu, Sb, Se)</td>\n",
       "      <td>3</td>\n",
       "      <td>0.637377</td>\n",
       "      <td>0.564295</td>\n",
       "      <td>0.521836</td>\n",
       "      <td>0.509034</td>\n",
       "      <td>0.502747</td>\n",
       "      <td>29.0</td>\n",
       "      <td>...</td>\n",
       "      <td>-4.286226</td>\n",
       "      <td>-1.972581</td>\n",
       "      <td>2.313645</td>\n",
       "      <td>-3.050496</td>\n",
       "      <td>1.124909</td>\n",
       "      <td>-0.166226</td>\n",
       "      <td>0.057419</td>\n",
       "      <td>0.223645</td>\n",
       "      <td>-0.034246</td>\n",
       "      <td>0.100252</td>\n",
       "    </tr>\n",
       "    <tr>\n",
       "      <th>4</th>\n",
       "      <td>ZnO</td>\n",
       "      <td>3.402809</td>\n",
       "      <td>(Zn, O)</td>\n",
       "      <td>2</td>\n",
       "      <td>0.707107</td>\n",
       "      <td>0.629961</td>\n",
       "      <td>0.574349</td>\n",
       "      <td>0.552045</td>\n",
       "      <td>0.535887</td>\n",
       "      <td>8.0</td>\n",
       "      <td>...</td>\n",
       "      <td>-4.760000</td>\n",
       "      <td>-0.840000</td>\n",
       "      <td>3.920000</td>\n",
       "      <td>-2.800000</td>\n",
       "      <td>2.771859</td>\n",
       "      <td>0.230000</td>\n",
       "      <td>0.430000</td>\n",
       "      <td>0.200000</td>\n",
       "      <td>0.330000</td>\n",
       "      <td>0.141421</td>\n",
       "    </tr>\n",
       "    <tr>\n",
       "      <th>...</th>\n",
       "      <td>...</td>\n",
       "      <td>...</td>\n",
       "      <td>...</td>\n",
       "      <td>...</td>\n",
       "      <td>...</td>\n",
       "      <td>...</td>\n",
       "      <td>...</td>\n",
       "      <td>...</td>\n",
       "      <td>...</td>\n",
       "      <td>...</td>\n",
       "      <td>...</td>\n",
       "      <td>...</td>\n",
       "      <td>...</td>\n",
       "      <td>...</td>\n",
       "      <td>...</td>\n",
       "      <td>...</td>\n",
       "      <td>...</td>\n",
       "      <td>...</td>\n",
       "      <td>...</td>\n",
       "      <td>...</td>\n",
       "      <td>...</td>\n",
       "    </tr>\n",
       "    <tr>\n",
       "      <th>4602</th>\n",
       "      <td>ScCoO3</td>\n",
       "      <td>0.000000</td>\n",
       "      <td>(Sc, Co, O)</td>\n",
       "      <td>3</td>\n",
       "      <td>0.663325</td>\n",
       "      <td>0.614463</td>\n",
       "      <td>0.600984</td>\n",
       "      <td>0.600078</td>\n",
       "      <td>0.600002</td>\n",
       "      <td>8.0</td>\n",
       "      <td>...</td>\n",
       "      <td>-4.760000</td>\n",
       "      <td>-4.630242</td>\n",
       "      <td>0.129758</td>\n",
       "      <td>-4.732918</td>\n",
       "      <td>0.068666</td>\n",
       "      <td>-0.104349</td>\n",
       "      <td>0.489758</td>\n",
       "      <td>0.594106</td>\n",
       "      <td>0.215082</td>\n",
       "      <td>0.252240</td>\n",
       "    </tr>\n",
       "    <tr>\n",
       "      <th>4603</th>\n",
       "      <td>Tm2MgTl</td>\n",
       "      <td>0.000000</td>\n",
       "      <td>(Tm, Mg, Tl)</td>\n",
       "      <td>3</td>\n",
       "      <td>0.612372</td>\n",
       "      <td>0.538609</td>\n",
       "      <td>0.506099</td>\n",
       "      <td>0.501109</td>\n",
       "      <td>0.500098</td>\n",
       "      <td>12.0</td>\n",
       "      <td>...</td>\n",
       "      <td>NaN</td>\n",
       "      <td>NaN</td>\n",
       "      <td>NaN</td>\n",
       "      <td>NaN</td>\n",
       "      <td>NaN</td>\n",
       "      <td>NaN</td>\n",
       "      <td>NaN</td>\n",
       "      <td>NaN</td>\n",
       "      <td>NaN</td>\n",
       "      <td>NaN</td>\n",
       "    </tr>\n",
       "    <tr>\n",
       "      <th>4604</th>\n",
       "      <td>Nb5Ga4</td>\n",
       "      <td>0.000000</td>\n",
       "      <td>(Nb, Ga)</td>\n",
       "      <td>2</td>\n",
       "      <td>0.711458</td>\n",
       "      <td>0.637644</td>\n",
       "      <td>0.587958</td>\n",
       "      <td>0.570873</td>\n",
       "      <td>0.561251</td>\n",
       "      <td>31.0</td>\n",
       "      <td>...</td>\n",
       "      <td>-6.686752</td>\n",
       "      <td>-2.370000</td>\n",
       "      <td>4.316752</td>\n",
       "      <td>-4.768195</td>\n",
       "      <td>3.052404</td>\n",
       "      <td>0.353248</td>\n",
       "      <td>0.660000</td>\n",
       "      <td>0.306752</td>\n",
       "      <td>0.489582</td>\n",
       "      <td>0.216906</td>\n",
       "    </tr>\n",
       "    <tr>\n",
       "      <th>4605</th>\n",
       "      <td>Tb2Sb5</td>\n",
       "      <td>0.000000</td>\n",
       "      <td>(Tb, Sb)</td>\n",
       "      <td>2</td>\n",
       "      <td>0.769309</td>\n",
       "      <td>0.729210</td>\n",
       "      <td>0.715743</td>\n",
       "      <td>0.714453</td>\n",
       "      <td>0.714293</td>\n",
       "      <td>51.0</td>\n",
       "      <td>...</td>\n",
       "      <td>NaN</td>\n",
       "      <td>NaN</td>\n",
       "      <td>NaN</td>\n",
       "      <td>NaN</td>\n",
       "      <td>NaN</td>\n",
       "      <td>NaN</td>\n",
       "      <td>NaN</td>\n",
       "      <td>NaN</td>\n",
       "      <td>NaN</td>\n",
       "      <td>NaN</td>\n",
       "    </tr>\n",
       "    <tr>\n",
       "      <th>4606</th>\n",
       "      <td>Lu2AlTc</td>\n",
       "      <td>0.000000</td>\n",
       "      <td>(Lu, Al, Tc)</td>\n",
       "      <td>3</td>\n",
       "      <td>0.612372</td>\n",
       "      <td>0.538609</td>\n",
       "      <td>0.506099</td>\n",
       "      <td>0.501109</td>\n",
       "      <td>0.500098</td>\n",
       "      <td>13.0</td>\n",
       "      <td>...</td>\n",
       "      <td>NaN</td>\n",
       "      <td>NaN</td>\n",
       "      <td>NaN</td>\n",
       "      <td>NaN</td>\n",
       "      <td>NaN</td>\n",
       "      <td>NaN</td>\n",
       "      <td>NaN</td>\n",
       "      <td>NaN</td>\n",
       "      <td>NaN</td>\n",
       "      <td>NaN</td>\n",
       "    </tr>\n",
       "  </tbody>\n",
       "</table>\n",
       "<p>4607 rows × 192 columns</p>\n",
       "</div>"
      ],
      "text/plain": [
       "       composition         E       formula  0-norm    2-norm    3-norm  \\\n",
       "0     Hg0.7Cd0.3Te  0.310000  (Hg, Cd, Te)       3  0.628490  0.555320   \n",
       "1             CuBr  2.998325      (Cu, Br)       2  0.707107  0.629961   \n",
       "2              LuP  1.300000       (Lu, P)       2  0.707107  0.629961   \n",
       "3         Cu3SbSe4  0.355000  (Cu, Sb, Se)       3  0.637377  0.564295   \n",
       "4              ZnO  3.402809       (Zn, O)       2  0.707107  0.629961   \n",
       "...            ...       ...           ...     ...       ...       ...   \n",
       "4602        ScCoO3  0.000000   (Sc, Co, O)       3  0.663325  0.614463   \n",
       "4603       Tm2MgTl  0.000000  (Tm, Mg, Tl)       3  0.612372  0.538609   \n",
       "4604        Nb5Ga4  0.000000      (Nb, Ga)       2  0.711458  0.637644   \n",
       "4605        Tb2Sb5  0.000000      (Tb, Sb)       2  0.769309  0.729210   \n",
       "4606       Lu2AlTc  0.000000  (Lu, Al, Tc)       3  0.612372  0.538609   \n",
       "\n",
       "        5-norm    7-norm   10-norm  MagpieData minimum Number  ...  \\\n",
       "0     0.515994  0.505699  0.501395                       48.0  ...   \n",
       "1     0.574349  0.552045  0.535887                       29.0  ...   \n",
       "2     0.574349  0.552045  0.535887                       15.0  ...   \n",
       "3     0.521836  0.509034  0.502747                       29.0  ...   \n",
       "4     0.574349  0.552045  0.535887                        8.0  ...   \n",
       "...        ...       ...       ...                        ...  ...   \n",
       "4602  0.600984  0.600078  0.600002                        8.0  ...   \n",
       "4603  0.506099  0.501109  0.500098                       12.0  ...   \n",
       "4604  0.587958  0.570873  0.561251                       31.0  ...   \n",
       "4605  0.715743  0.714453  0.714293                       51.0  ...   \n",
       "4606  0.506099  0.501109  0.500098                       13.0  ...   \n",
       "\n",
       "      DemlData minimum mus_fere  DemlData maximum mus_fere  \\\n",
       "0                     -3.250341                  -0.123616   \n",
       "1                           NaN                        NaN   \n",
       "2                           NaN                        NaN   \n",
       "3                     -4.286226                  -1.972581   \n",
       "4                     -4.760000                  -0.840000   \n",
       "...                         ...                        ...   \n",
       "4602                  -4.760000                  -4.630242   \n",
       "4603                        NaN                        NaN   \n",
       "4604                  -6.686752                  -2.370000   \n",
       "4605                        NaN                        NaN   \n",
       "4606                        NaN                        NaN   \n",
       "\n",
       "      DemlData range mus_fere  DemlData mean mus_fere  \\\n",
       "0                    3.126725               -1.752436   \n",
       "1                         NaN                     NaN   \n",
       "2                         NaN                     NaN   \n",
       "3                    2.313645               -3.050496   \n",
       "4                    3.920000               -2.800000   \n",
       "...                       ...                     ...   \n",
       "4602                 0.129758               -4.732918   \n",
       "4603                      NaN                     NaN   \n",
       "4604                 4.316752               -4.768195   \n",
       "4605                      NaN                     NaN   \n",
       "4606                      NaN                     NaN   \n",
       "\n",
       "      DemlData std_dev mus_fere  DemlData minimum FERE correction  \\\n",
       "0                      1.934341                         -0.110341   \n",
       "1                           NaN                               NaN   \n",
       "2                           NaN                               NaN   \n",
       "3                      1.124909                         -0.166226   \n",
       "4                      2.771859                          0.230000   \n",
       "...                         ...                               ...   \n",
       "4602                   0.068666                         -0.104349   \n",
       "4603                        NaN                               NaN   \n",
       "4604                   3.052404                          0.353248   \n",
       "4605                        NaN                               NaN   \n",
       "4606                        NaN                               NaN   \n",
       "\n",
       "      DemlData maximum FERE correction  DemlData range FERE correction  \\\n",
       "0                             0.350000                        0.460341   \n",
       "1                                  NaN                             NaN   \n",
       "2                                  NaN                             NaN   \n",
       "3                             0.057419                        0.223645   \n",
       "4                             0.430000                        0.200000   \n",
       "...                                ...                             ...   \n",
       "4602                          0.489758                        0.594106   \n",
       "4603                               NaN                             NaN   \n",
       "4604                          0.660000                        0.306752   \n",
       "4605                               NaN                             NaN   \n",
       "4606                               NaN                             NaN   \n",
       "\n",
       "      DemlData mean FERE correction  DemlData std_dev FERE correction  \n",
       "0                          0.055564                          0.226597  \n",
       "1                               NaN                               NaN  \n",
       "2                               NaN                               NaN  \n",
       "3                         -0.034246                          0.100252  \n",
       "4                          0.330000                          0.141421  \n",
       "...                             ...                               ...  \n",
       "4602                       0.215082                          0.252240  \n",
       "4603                            NaN                               NaN  \n",
       "4604                       0.489582                          0.216906  \n",
       "4605                            NaN                               NaN  \n",
       "4606                            NaN                               NaN  \n",
       "\n",
       "[4607 rows x 192 columns]"
      ]
     },
     "execution_count": 235,
     "metadata": {},
     "output_type": "execute_result"
    }
   ],
   "source": [
    "df_merge = pd.merge(df_magpie, df_deml)\n",
    "df_merge"
   ]
  },
  {
   "cell_type": "markdown",
   "metadata": {},
   "source": [
    "# Feauture engineering\n",
    "\n",
    "We now turn to the feature enegenering. Define some useful functions"
   ]
  },
  {
   "cell_type": "code",
   "execution_count": 138,
   "metadata": {},
   "outputs": [],
   "source": [
    "#This function takes a DataFrame as input and returns two columns, total missing values and total missing values percentage\n",
    "def missing_percentage(df):\n",
    "    total = df.isnull().sum().sort_values(ascending = False)[df.isnull().sum().sort_values(ascending = False) != 0]\n",
    "    percent = round(df.isnull().sum().sort_values(ascending = False)/len(df)*100,2)[round(df.isnull().sum().sort_values(ascending = False)/len(df)*100,2) != 0]\n",
    "    return pd.concat([total, percent], axis=1, keys=['Total','Percent'])"
   ]
  },
  {
   "cell_type": "code",
   "execution_count": 139,
   "metadata": {},
   "outputs": [],
   "source": [
    "#Drop all the columns with missing percent greater than \"threshold\"\n",
    "def drop_missing(df, threshold=3):\n",
    "    dropped = []\n",
    "    for i in range(0, len(missing_percentage(df).Percent.index)):\n",
    "        if missing_percentage(df).Percent[i] > threshold:\n",
    "            dropped.append(missing_percentage(df).Percent.index[i])\n",
    "    df = df.drop(columns=dropped)\n",
    "    print(dropped)\n",
    "    return df"
   ]
  },
  {
   "cell_type": "code",
   "execution_count": 140,
   "metadata": {},
   "outputs": [],
   "source": [
    "# List all the columns\n",
    "def col(df):\n",
    "    for i in df.columns:\n",
    "        print(i)"
   ]
  },
  {
   "cell_type": "markdown",
   "metadata": {},
   "source": [
    "Drop all the columns with missing percent greater than \"threshold\""
   ]
  },
  {
   "cell_type": "code",
   "execution_count": 236,
   "metadata": {},
   "outputs": [
    {
     "name": "stdout",
     "output_type": "stream",
     "text": [
      "['DemlData std_dev FERE correction', 'DemlData minimum mus_fere', 'DemlData mean FERE correction', 'DemlData minimum GGAU_Etot', 'DemlData maximum GGAU_Etot', 'DemlData range GGAU_Etot', 'DemlData mean GGAU_Etot', 'DemlData std_dev GGAU_Etot', 'DemlData maximum mus_fere', 'DemlData range mus_fere', 'DemlData mean mus_fere', 'DemlData std_dev mus_fere', 'DemlData minimum FERE correction', 'DemlData maximum FERE correction', 'DemlData range FERE correction', 'DemlData range electric_pol', 'DemlData maximum electric_pol', 'DemlData minimum electric_pol', 'DemlData mean electric_pol', 'DemlData std_dev electric_pol', 'DemlData std_dev heat_cap', 'DemlData minimum heat_cap', 'DemlData range heat_cap', 'DemlData mean heat_cap', 'DemlData maximum heat_cap', 'DemlData minimum heat_fusion', 'DemlData std_dev heat_fusion', 'DemlData mean heat_fusion', 'DemlData range heat_fusion', 'DemlData maximum heat_fusion', 'DemlData mean atom_radius', 'DemlData range atom_radius', 'DemlData maximum atom_radius', 'DemlData minimum atom_radius', 'DemlData std_dev atom_radius', 'DemlData minimum molar_vol', 'DemlData maximum molar_vol', 'DemlData range molar_vol', 'DemlData std_dev molar_vol', 'DemlData mean molar_vol', 'DemlData minimum boiling_point', 'DemlData maximum boiling_point', 'DemlData range boiling_point', 'DemlData mean boiling_point', 'DemlData std_dev boiling_point', 'DemlData minimum first_ioniz', 'DemlData maximum first_ioniz', 'DemlData range first_ioniz', 'DemlData mean first_ioniz', 'DemlData std_dev first_ioniz']\n"
     ]
    }
   ],
   "source": [
    "df_merge = drop_missing(df_merge, threshold=1)"
   ]
  },
  {
   "cell_type": "markdown",
   "metadata": {},
   "source": [
    "Remove entries with `NaN` or `infinite` features"
   ]
  },
  {
   "cell_type": "code",
   "execution_count": 237,
   "metadata": {},
   "outputs": [
    {
     "name": "stdout",
     "output_type": "stream",
     "text": [
      "Removed 1/4607 entries\n"
     ]
    }
   ],
   "source": [
    "original_count = len(df_merge)\n",
    "df_merge = df_merge[~ df_merge[feature_labels_magpie].isnull().any(axis=1)]\n",
    "print('Removed %d/%d entries'%(original_count - len(df_merge), original_count))"
   ]
  },
  {
   "cell_type": "markdown",
   "metadata": {},
   "source": [
    "For the future use we define a list of features associated to the training data"
   ]
  },
  {
   "cell_type": "code",
   "execution_count": null,
   "metadata": {},
   "outputs": [],
   "source": [
    "features = []\n",
    "for col in df_merge.columns:\n",
    "    features+=[str(col)]\n",
    "to_remove = ['composition', 'E', 'formula', 'compound possible']\n",
    "for i in to_remove:\n",
    "    features.remove(i)"
   ]
  },
  {
   "cell_type": "markdown",
   "metadata": {},
   "source": [
    "### Data normalisation"
   ]
  },
  {
   "cell_type": "markdown",
   "metadata": {},
   "source": [
    "Algorithms work better when rhe data has [skewness](https://en.wikipedia.org/wiki/Skewness) close to zero and it is also normalized"
   ]
  },
  {
   "cell_type": "code",
   "execution_count": 219,
   "metadata": {},
   "outputs": [],
   "source": [
    "## Fixing Skewed features using boxcox transformation. \n",
    "def fixing_skewness(df):\n",
    "    \"\"\"\n",
    "    This function takes in a dataframe and return fixed skewed dataframe\n",
    "    \"\"\"\n",
    "    ## Import necessary modules \n",
    "    from scipy.stats import skew\n",
    "    from scipy.special import boxcox1p\n",
    "    from scipy.stats import boxcox_normmax\n",
    "    \n",
    "    ## Getting all the data that are not of \"object\" type. \n",
    "    numeric_feats = df.dtypes[df.dtypes != \"object\"].index\n",
    "\n",
    "    # Check the skew of all numerical features\n",
    "    skewed_feats = df[numeric_feats].apply(lambda x: skew(x)).sort_values(ascending=False)\n",
    "    high_skew = skewed_feats[abs(skewed_feats) > 0.5]\n",
    "    skewed_features = high_skew.index\n",
    "\n",
    "    for feat in skewed_features:\n",
    "        df[feat] = boxcox1p(df[feat], boxcox_normmax(df[feat] + 1))\n",
    "    print(skewed_features)\n",
    "    return df"
   ]
  },
  {
   "cell_type": "markdown",
   "metadata": {},
   "source": [
    "Define target and features data"
   ]
  },
  {
   "cell_type": "code",
   "execution_count": null,
   "metadata": {},
   "outputs": [],
   "source": [
    "X = df_merge[features]\n",
    "y = df_merge['E']"
   ]
  },
  {
   "cell_type": "code",
   "execution_count": 267,
   "metadata": {},
   "outputs": [],
   "source": [
    "# Create the Scaler object\n",
    "scaler = preprocessing.StandardScaler()\n",
    "# Fit your data on the scaler object\n",
    "X = scaler.fit_transform(X)\n",
    "X = pd.DataFrame(X)"
   ]
  },
  {
   "cell_type": "markdown",
   "metadata": {},
   "source": [
    "## Machine learing models\n"
   ]
  },
  {
   "cell_type": "markdown",
   "metadata": {},
   "source": [
    "Define rmse fucntion"
   ]
  },
  {
   "cell_type": "code",
   "execution_count": 143,
   "metadata": {},
   "outputs": [],
   "source": [
    "# define cross validation strategy\n",
    "def rmse_cv(model,X,y):\n",
    "    rmse = np.sqrt(-cross_val_score(model, X, y, scoring=\"neg_mean_squared_error\", cv=5))\n",
    "    return rmse"
   ]
  },
  {
   "cell_type": "markdown",
   "metadata": {},
   "source": [
    "Define kfold"
   ]
  },
  {
   "cell_type": "code",
   "execution_count": 88,
   "metadata": {},
   "outputs": [],
   "source": [
    "kfolds = KFold(n_splits=10, shuffle=True, random_state=42)"
   ]
  },
  {
   "cell_type": "markdown",
   "metadata": {},
   "source": [
    "For gridsearch we set lists of parameters"
   ]
  },
  {
   "cell_type": "code",
   "execution_count": 86,
   "metadata": {},
   "outputs": [],
   "source": [
    "alphas_rid = [1.0,0.8,0.5,0.3,0.2,0.1,0.05,0.02,0.01,0.002]\n",
    "alphas_las = [5e-05, 0.0001, 0.0002, 0.0003, 0.0004, 0.0005, 0.0006, 0.0007, 0.0008]\n",
    "e_alphas = [0.0001, 0.0002, 0.0003, 0.0004, 0.0005, 0.0006, 0.0007]\n",
    "e_l1ratio = [0.8, 0.85, 0.9, 0.95, 0.99, 1]"
   ]
  },
  {
   "cell_type": "code",
   "execution_count": 244,
   "metadata": {},
   "outputs": [
    {
     "name": "stdout",
     "output_type": "stream",
     "text": [
      "Fitting 10 folds for each of 14 candidates, totalling 140 fits\n"
     ]
    },
    {
     "name": "stderr",
     "output_type": "stream",
     "text": [
      "[Parallel(n_jobs=1)]: Using backend SequentialBackend with 1 concurrent workers.\n",
      "[Parallel(n_jobs=1)]: Done 140 out of 140 | elapsed:    2.2s finished\n"
     ]
    },
    {
     "data": {
      "text/plain": [
       "{'alpha': 0.2}"
      ]
     },
     "execution_count": 244,
     "metadata": {},
     "output_type": "execute_result"
    }
   ],
   "source": [
    "params={'alpha': [25,10,4,2,1.0,0.8,0.5,0.3,0.2,0.1,0.05,0.02,0.01,0.002]}\n",
    "rdg_reg = Ridge()\n",
    "grid = GridSearchCV(rdg_reg,params,cv=kfolds,verbose = 1, scoring = 'neg_mean_squared_error')\n",
    "grid.fit(X,y)\n",
    "\n",
    "grid.best_params_"
   ]
  },
  {
   "cell_type": "code",
   "execution_count": 246,
   "metadata": {},
   "outputs": [
    {
     "name": "stdout",
     "output_type": "stream",
     "text": [
      "Ridge: 1.1898 \n",
      " 2020-03-30 10:17:37.158106\n"
     ]
    }
   ],
   "source": [
    "ridge = Ridge(alpha=0.02)\n",
    "score = rmse_cv(ridge, X, y)\n",
    "print(\"Ridge: {:.4f} \\n\".format(score.mean()), datetime.now(), )"
   ]
  },
  {
   "cell_type": "code",
   "execution_count": 247,
   "metadata": {},
   "outputs": [
    {
     "name": "stdout",
     "output_type": "stream",
     "text": [
      "Fitting 10 folds for each of 14 candidates, totalling 140 fits\n"
     ]
    },
    {
     "name": "stderr",
     "output_type": "stream",
     "text": [
      "[Parallel(n_jobs=1)]: Using backend SequentialBackend with 1 concurrent workers.\n",
      "[Parallel(n_jobs=1)]: Done 140 out of 140 | elapsed:    8.8s finished\n"
     ]
    },
    {
     "data": {
      "text/plain": [
       "{'alpha': 0.002}"
      ]
     },
     "execution_count": 247,
     "metadata": {},
     "output_type": "execute_result"
    }
   ],
   "source": [
    "params={'alpha': [25,10,4,2,1.0,0.8,0.5,0.3,0.2,0.1,0.05,0.02,0.01,0.002]}\n",
    "rdg_reg = Lasso()\n",
    "grid = GridSearchCV(rdg_reg,params,cv=kfolds,verbose = 1, scoring = 'neg_mean_squared_error')\n",
    "grid.fit(X,y)\n",
    "\n",
    "grid.best_params_"
   ]
  },
  {
   "cell_type": "code",
   "execution_count": 253,
   "metadata": {},
   "outputs": [
    {
     "name": "stdout",
     "output_type": "stream",
     "text": [
      "Lasso: 1.1998 \n",
      " 2020-03-30 10:23:49.861100\n"
     ]
    }
   ],
   "source": [
    "lasso = Lasso(alpha=0.002)\n",
    "score = rmse_cv(lasso, X, y)\n",
    "print(\"Lasso: {:.4f} \\n\".format(score.mean()), datetime.now(), )"
   ]
  },
  {
   "cell_type": "code",
   "execution_count": 124,
   "metadata": {},
   "outputs": [
    {
     "data": {
      "text/plain": [
       "{'alpha': 1e-05, 'l1_ratio': 0.9, 'max_iter': 2000}"
      ]
     },
     "execution_count": 124,
     "metadata": {},
     "output_type": "execute_result"
    }
   ],
   "source": [
    "parametersGrid = {\"max_iter\": [100, 1000, 2000],\n",
    "                      \"alpha\": [0.00001, 0.0001, 0.001, 0.01, 0.1, 1, 10, 100],\n",
    "                      \"l1_ratio\": np.arange(0.0, 1.0, 0.1)}\n",
    "\n",
    "eNet = ElasticNet()\n",
    "grid = GridSearchCV(eNet, parametersGrid, scoring='neg_mean_squared_error', cv=10)\n",
    "grid.fit(X, y)\n",
    "\n",
    "grid.best_params_"
   ]
  },
  {
   "cell_type": "code",
   "execution_count": 224,
   "metadata": {},
   "outputs": [
    {
     "name": "stdout",
     "output_type": "stream",
     "text": [
      "Elastic Net: nan (nan)\n",
      " 2020-03-30 10:05:16.040009\n"
     ]
    }
   ],
   "source": [
    "elasticnet = ElasticNet(max_iter=10000, alpha=0.00001, l1_ratio=0.9) \n",
    "score = rmse_cv(elasticnet,X,y)\n",
    "print(\"Elastic Net: {:.4f} ({:.4f})\\n\".format(score.mean(), score.std()), datetime.now(), )"
   ]
  },
  {
   "cell_type": "code",
   "execution_count": 97,
   "metadata": {},
   "outputs": [
    {
     "data": {
      "text/plain": [
       "{'C': 1.0, 'gamma': 10.0}"
      ]
     },
     "execution_count": 97,
     "metadata": {},
     "output_type": "execute_result"
    }
   ],
   "source": [
    "param_grid={\"C\": [1e0, 1e1, 1e2, 1e3],\n",
    "                               \"gamma\": np.logspace(-2, 2, 5)}\n",
    "grid = GridSearchCV(SVR(kernel='rbf'), param_grid,  scoring='neg_mean_squared_error', cv=10)\n",
    "grid.fit(X, y)\n",
    "grid.best_params_"
   ]
  },
  {
   "cell_type": "code",
   "execution_count": 251,
   "metadata": {},
   "outputs": [
    {
     "data": {
      "text/plain": [
       "{'max_features': 17}"
      ]
     },
     "execution_count": 251,
     "metadata": {},
     "output_type": "execute_result"
    }
   ],
   "source": [
    "grid = GridSearchCV(RandomForestRegressor(n_estimators=200, n_jobs=-1),\n",
    "                     param_grid=dict(max_features=range(8,18)),\n",
    "                     scoring='neg_mean_squared_error',cv=kfolds)\n",
    "grid.fit(X, y)\n",
    "grid.best_params_"
   ]
  },
  {
   "cell_type": "code",
   "execution_count": 252,
   "metadata": {},
   "outputs": [
    {
     "name": "stdout",
     "output_type": "stream",
     "text": [
      "Random Forest: 0.7760 (0.0955)\n",
      " 2020-03-30 10:23:37.862587\n"
     ]
    }
   ],
   "source": [
    "randomforest = RandomForestRegressor(n_estimators=300, n_jobs=-1, max_features=17) \n",
    "score = rmse_cv(randomforest,X ,y)\n",
    "print(\"Random Forest: {:.4f} ({:.4f})\\n\".format(score.mean(), score.std()), datetime.now(), )"
   ]
  },
  {
   "cell_type": "code",
   "execution_count": 250,
   "metadata": {},
   "outputs": [
    {
     "name": "stdout",
     "output_type": "stream",
     "text": [
      "XGBoost: 0.7722 (0.1206)\n",
      " 2020-03-30 10:21:51.549666\n"
     ]
    }
   ],
   "source": [
    "xgboost = XGBRegressor(learning_rate=0.01,n_estimators=3460,\n",
    "                                     max_depth=3, min_child_weight=0,\n",
    "                                     gamma=0, subsample=0.7,\n",
    "                                     colsample_bytree=0.7,\n",
    "                                     objective='reg:squarederror', nthread=-1,\n",
    "                                     scale_pos_weight=1, seed=27,\n",
    "                                     reg_alpha=0.00006)\n",
    "score = rmse_cv(xgboost, X, y)\n",
    "print(\"XGBoost: {:.4f} ({:.4f})\\n\".format(score.mean(), score.std()), datetime.now(), )"
   ]
  },
  {
   "cell_type": "code",
   "execution_count": 265,
   "metadata": {},
   "outputs": [
    {
     "name": "stdout",
     "output_type": "stream",
     "text": [
      "Stacking: 0.7473 (0.1041)\n",
      " 2020-03-30 10:40:59.582288\n"
     ]
    }
   ],
   "source": [
    "stack_gen = StackingRegressor(regressors=(randomforest, lasso, elasticnet, xgboost),\n",
    "                                meta_regressor=xgboost)\n",
    "score = rmse_cv(stack_gen,X ,y)\n",
    "print(\"Stacking: {:.4f} ({:.4f})\\n\".format(score.mean(), score.std()), datetime.now(), )"
   ]
  },
  {
   "cell_type": "markdown",
   "metadata": {},
   "source": [
    "### Results"
   ]
  },
  {
   "cell_type": "markdown",
   "metadata": {},
   "source": [
    "The best algorithm is stacking with mean rmse 0.74 . "
   ]
  }
 ],
 "metadata": {
  "kernelspec": {
   "display_name": "Python 3",
   "language": "python",
   "name": "python3"
  },
  "language_info": {
   "codemirror_mode": {
    "name": "ipython",
    "version": 3
   },
   "file_extension": ".py",
   "mimetype": "text/x-python",
   "name": "python",
   "nbconvert_exporter": "python",
   "pygments_lexer": "ipython3",
   "version": "3.6.9"
  }
 },
 "nbformat": 4,
 "nbformat_minor": 4
}
