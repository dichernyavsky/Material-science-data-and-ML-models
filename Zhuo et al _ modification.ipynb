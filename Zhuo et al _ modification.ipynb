{
 "cells": [
  {
   "cell_type": "markdown",
   "metadata": {},
   "source": [
    "# Improving results by [Zhuo et al.](https://pubs.acs.org/doi/10.1021/acs.jpclett.8b00124)"
   ]
  },
  {
   "cell_type": "code",
   "execution_count": null,
   "metadata": {},
   "outputs": [],
   "source": [
    "import pandas as pd\n",
    "import numpy as np\n",
    "from sklearn import preprocessing\n",
    "\n",
    "\n",
    "%matplotlib inline\n",
    "from matplotlib import pyplot as plt\n",
    "from sklearn.model_selection import train_test_split\n",
    "from xgboost import XGBRegressor, XGBClassifier\n",
    "from sklearn.metrics import mean_squared_error, mean_absolute_error\n",
    "\n",
    "import seaborn as sns\n",
    "from sklearn.metrics import accuracy_score\n",
    "import pymatgen as mg\n",
    "warnings.filterwarnings('ignore')\n",
    "from sklearn.utils import shuffle\n",
    "import statistics\n",
    "\n",
    "\n",
    "from deap import creator, base, tools, algorithms\n",
    "import random\n",
    "import warnings"
   ]
  },
  {
   "cell_type": "code",
   "execution_count": 5,
   "metadata": {},
   "outputs": [],
   "source": [
    "#read experimental band gap data with features taken from https://github.com/BrgochGroup/BandGapPredictor\n",
    "df_merge = pd.read_excel('/home/dima/Desktop/ML/Zhau et al/Training_Set.xlsx',sheet_name=1)"
   ]
  },
  {
   "cell_type": "code",
   "execution_count": 6,
   "metadata": {},
   "outputs": [
    {
     "data": {
      "image/png": "[encoded data removed]",
      "text/plain": [
       "<Figure size 432x288 with 1 Axes>"
      ]
     },
     "metadata": {
      "needs_background": "light"
     },
     "output_type": "display_data"
    }
   ],
   "source": [
    "# See the outliers\n",
    "sns.boxplot(data=df_merge['Eg'], palette='rainbow', orient='h');"
   ]
  },
  {
   "cell_type": "markdown",
   "metadata": {},
   "source": [
    "The most of the compounds have bang gap values smaller then 4 eV. \n",
    "In what follows we are going to use RMSE to evaluate ML model preformance. RMSE is very sensible to large errors for a given prediction as it involves squares of error values.\n",
    "Analysis shows that ML model we are going to construct performs well for compounds with bg<4. So, it is reasonable to define a new feature 'bg>4', which indicates whether band gap for a given compound is smaller or greater of 4 eV"
   ]
  },
  {
   "cell_type": "code",
   "execution_count": 11,
   "metadata": {},
   "outputs": [],
   "source": [
    "# Define a new target\n",
    "df_merge['bg>4'] = np.nan\n",
    "for i in range(0,len(df_merge['Eg'])):\n",
    "    if df_merge['Eg'][i]>4:\n",
    "        df_merge['bg>4'][i]=int(1)\n",
    "    else:\n",
    "        df_merge['bg>4'][i]=int(0)\n",
    "        \n",
    "df_merge['metal'] = np.nan\n",
    "for i in range(0, len(df_merge['Eg'])):\n",
    "    if df_merge['Eg'][i] < 0.0001:\n",
    "        df_merge['metal'][i]=int(1)\n",
    "    else:\n",
    "        df_merge['metal'][i]=int(0)"
   ]
  },
  {
   "cell_type": "markdown",
   "metadata": {},
   "source": [
    "The band gap data is skewed"
   ]
  },
  {
   "cell_type": "code",
   "execution_count": 21,
   "metadata": {},
   "outputs": [
    {
     "name": "stdout",
     "output_type": "stream",
     "text": [
      "\n",
      " mu = 2.04 and sigma = 1.50\n",
      "\n"
     ]
    },
    {
     "data": {
      "text/plain": [
       "Text(0.5, 1.0, 'Band gap value')"
      ]
     },
     "execution_count": 21,
     "metadata": {},
     "output_type": "execute_result"
    },
    {
     "data": {
      "image/png": "[encoded data removed]",
      "text/plain": [
       "<Figure size 432x288 with 1 Axes>"
      ]
     },
     "metadata": {
      "needs_background": "light"
     },
     "output_type": "display_data"
    }
   ],
   "source": [
    "from scipy.stats import norm, skew \n",
    "from scipy import stats\n",
    "sns.distplot(df_merge['Eg'], fit=norm);\n",
    "\n",
    "(mu, sigma) = norm.fit(df_merge['Eg'])\n",
    "print( '\\n mu = {:.2f} and sigma = {:.2f}\\n'.format(mu, sigma))\n",
    "\n",
    "#Plot the distribution\n",
    "plt.legend(['Normal dist. ($\\mu=$ {:.2f} and $\\sigma=$ {:.2f} )'.format(mu, sigma)],\n",
    "            loc='best')\n",
    "plt.ylabel('Frequency')\n",
    "plt.title('Band gap value')"
   ]
  },
  {
   "cell_type": "markdown",
   "metadata": {},
   "source": [
    "When using machine leaning algorithms (at least linear) it is better to make data to have a not skewed normal distribution by performing log-transformation.\n",
    "I performed such a transformation, but it turned out that XGBoost, that we are using here, performs poorly with this transformed data (probably, because it is based on nonlinear algorithms). "
   ]
  },
  {
   "cell_type": "markdown",
   "metadata": {},
   "source": [
    "## Classification: bg>4"
   ]
  },
  {
   "cell_type": "markdown",
   "metadata": {},
   "source": [
    "Here we are going to predict whether a given compound has bg>4"
   ]
  },
  {
   "cell_type": "code",
   "execution_count": 211,
   "metadata": {},
   "outputs": [],
   "source": [
    "features = []\n",
    "for col in df_merge.columns:\n",
    "    features+=[str(col)]\n",
    "to_remove = ['Eg', 'Composition', 'metal', 'bg>4']\n",
    "for i in to_remove:\n",
    "    features.remove(i)\n",
    "    \n",
    "X = df_merge[features]\n",
    "y = df_merge['bg>4']"
   ]
  },
  {
   "cell_type": "markdown",
   "metadata": {},
   "source": [
    "#### Genetic algorithm for feature selection"
   ]
  },
  {
   "cell_type": "markdown",
   "metadata": {},
   "source": [
    "We will use DEAP module for the genetic algorithm for feature selection. The code written below is a modification of the code taken from [here](https://github.com/scoliann/GeneticAlgorithmFeatureSelection/blob/master/gaFeatureSelectionExample.py). \n",
    "Define some useful functions"
   ]
  },
  {
   "cell_type": "code",
   "execution_count": 111,
   "metadata": {},
   "outputs": [],
   "source": [
    "def custom_cv(X, y, clf, n_shuf=30,):\n",
    "    X = X.values\n",
    "    Y = y.values\n",
    "    acc = []\n",
    "    for i in range(0, n_shuf):\n",
    "        X_train, X_test, Y_train, Y_test = train_test_split(X, Y, test_size=0.1, random_state=random.randint(1,100))\n",
    "        #preprocessing\n",
    "        scaler = preprocessing.StandardScaler().fit(X_train)\n",
    "        X_train = scaler.transform(X_train)\n",
    "        X_test = scaler.transform(X_test)\n",
    "        clf = clf.fit(X_train, Y_train)\n",
    "        predicted_Y = clf.predict(X_test)\n",
    "        #predicted_Y_r = np.exp(regression.predict(X_test_r))-1\n",
    "        #Y_test_r=np.exp(Y_test_r)-1\n",
    "        ac = accuracy_score(predicted_Y, Y_test)\n",
    "        acc.append(ac)\n",
    "    return statistics.mean(acc)\n",
    "\n",
    "def getFitness(individual, X ,y):\n",
    "    # Parse our feature columns that we don't use\n",
    "    cols = [index for index in range(len(individual)) if individual[index] == 0]\n",
    "    X_Parsed = X.drop(X.columns[cols], axis=1)\n",
    "    \n",
    "    # Calculate accuracy\n",
    "    clf = XGBClassifier()\n",
    "    accuracy = custom_cv(X_Parsed, y, clf)\n",
    "    # Return calculated accuracy as fitness\n",
    "    return (accuracy,)"
   ]
  },
  {
   "cell_type": "code",
   "execution_count": 197,
   "metadata": {},
   "outputs": [],
   "source": [
    "# This function gives hall of fame (the set of individuals with the best performance)\n",
    "def getHof(numPop = 100, numGen = 8):\n",
    "\n",
    "    # Initialize variables to use eaSimple\n",
    "    pop = toolbox.population(n=numPop)\n",
    "    hof = tools.HallOfFame(numPop * numGen)\n",
    "    stats = tools.Statistics(lambda ind: ind.fitness.values)\n",
    "    stats.register(\"avg\", np.mean)\n",
    "    stats.register(\"std\", np.std)\n",
    "    stats.register(\"min\", np.min)\n",
    "    stats.register(\"max\", np.max)\n",
    "\n",
    "    # Launch genetic algorithm\n",
    "    pop, log = algorithms.eaSimple(pop, toolbox, cxpb=0.5, mutpb=0.2, ngen=numGen, stats=stats, halloffame=hof, verbose=True)\n",
    "\n",
    "    # Return the hall of fame\n",
    "    return hof\n",
    "\n",
    "def getMetrics(hof):    \n",
    "    # Gather fitness data\n",
    "    AccuracyList = []\n",
    "    individualList = []\n",
    "    for individual in hof:\n",
    "        Accuracy = getFitness(individual, X, y)\n",
    "        AccuracyList.append(Accuracy[0])\n",
    "        individualList.append(individual)\n",
    "        \n",
    "    return AccuracyList, individualList"
   ]
  },
  {
   "cell_type": "code",
   "execution_count": 113,
   "metadata": {},
   "outputs": [],
   "source": [
    "\"\"\"\n",
    "This defines strategy of the genetic algorithm. The genetic algorithm is tuned in such a way that during the evolution the accuracy value should have its maximum value\n",
    "\"\"\"\n",
    "creator.create(\"FitnessMax\", base.Fitness, weights=(1.0,))\n",
    "creator.create(\"Individual\", list, fitness=creator.FitnessMax)\n",
    "\n",
    "# Create Toolbox\n",
    "toolbox = base.Toolbox()\n",
    "toolbox.register(\"attr_bool\", random.randint, 0, 1)\n",
    "toolbox.register(\"individual\", tools.initRepeat, creator.Individual, toolbox.attr_bool, len(df_merge.columns) - len(to_remove))\n",
    "toolbox.register(\"population\", tools.initRepeat, list, toolbox.individual)\n",
    "\n",
    "# Continue filling toolbox...\n",
    "toolbox.register(\"evaluate\", getFitness, X=X, y=y)\n",
    "toolbox.register(\"mate\", tools.cxOnePoint)\n",
    "toolbox.register(\"mutate\", tools.mutFlipBit, indpb=0.05)\n",
    "toolbox.register(\"select\", tools.selTournament, tournsize=3)"
   ]
  },
  {
   "cell_type": "code",
   "execution_count": 114,
   "metadata": {},
   "outputs": [
    {
     "name": "stdout",
     "output_type": "stream",
     "text": [
      "\n",
      "Accuracy with all features: \t0.9773504273504273\n",
      "gen\tnevals\tavg     \tstd       \tmin     \tmax     \n",
      "0  \t100   \t0.974415\t0.00151648\t0.970085\t0.978034\n",
      "1  \t64    \t0.975021\t0.00157151\t0.971624\t0.978034\n",
      "2  \t57    \t0.975682\t0.00156036\t0.970427\t0.980427\n",
      "3  \t57    \t0.976146\t0.00196239\t0.969487\t0.980427\n",
      "4  \t63    \t0.976245\t0.00184307\t0.972393\t0.980427\n",
      "5  \t61    \t0.976728\t0.00186783\t0.972137\t0.980427\n",
      "6  \t51    \t0.976812\t0.00200053\t0.972479\t0.980427\n",
      "7  \t76    \t0.976221\t0.00187572\t0.972222\t0.980427\n",
      "8  \t70    \t0.976523\t0.00166992\t0.972222\t0.980427\n"
     ]
    }
   ],
   "source": [
    "'''\n",
    "First, we will apply XGBoost classifier using all the features to acquire a baseline accuracy.\n",
    "'''\n",
    "individual = [1 for i in range(len(X.columns))]\n",
    "Accuracy = getFitness(individual, X, y)\n",
    "print('\\nAccuracy with all features: \\t' + str(Accuracy[0]))\n",
    "\n",
    "'''\n",
    "Now, we will apply a genetic algorithm to choose a subset of features that gives a better accuracy than the baseline.\n",
    "'''\n",
    "hof = getHof()"
   ]
  },
  {
   "cell_type": "code",
   "execution_count": null,
   "metadata": {},
   "outputs": [],
   "source": [
    "AccuracyList, individualList = getMetrics(hof)\n",
    "# Get a list of subsets that performed best on validation data \n",
    "maxValAccSubsetIndicies = [index for index in range(len(AccuracyList)) if AccuracyList[index] == max(AccuracyList)]\n",
    "maxValIndividuals = [individualList[index] for index in maxValAccSubsetIndicies]\n",
    "maxValSubsets = [[list(features)[index] for index in range(len(individual)) if individual[index] == 1] for individual in maxValIndividuals]\n",
    "\n",
    "print('\\n---Optimal Feature Subset(s)---\\n')\n",
    "for index in range(len(maxValAccSubsetIndicies)):\n",
    "    #print('Percentile: \\t\\t\\t' + str(percentileList[maxValAccSubsetIndicies[index]]))\n",
    "    print('Accuracy: \\t\\t' + str(AccuracyList[maxValAccSubsetIndicies[index]]))\n",
    "    print('Individual: \\t' + str(maxValIndividuals[index]))\n",
    "    print('Number Features In Subset: \\t' + str(len(maxValSubsets[index])))\n",
    "    print('Feature Subset: ' + str(maxValSubsets[index]))"
   ]
  },
  {
   "cell_type": "code",
   "execution_count": 125,
   "metadata": {},
   "outputs": [],
   "source": [
    "features_optimal_bg4 = ['avg_Atomic number', 'avg_Family number', 'avg_L quantum number', 'avg_Mendeleev number', 'avg_Atomic radius (Å)', 'avg_Covalent radius (Å)', 'avg_Zunger radius (Å)', 'avg_Ionic radius (Å)', 'avg_Pauling EN', 'avg_Martynov-Batsanov EN', 'avg_Allen EN', 'avg_Metallic valence', 'avg_Number of valence electrons', 'avg_Number of s electrons', 'avg_Number of p electrons', 'avg_Number of d electrons', 'avg_First ionization energy (kJ/mol)', 'avg_Polarizability', 'avg_Specific heat (J/g•K)', 'avg_Heat of fusion (kJ/mol)', 'avg_Heat of vaporization (kJ/mol)', 'avg_Heat atomization (kJ/mol)', 'diff_Atomic number', 'diff_Atomic weight', 'diff_Family number', 'diff_L quantum number', 'diff_Mendeleev number', 'diff_Atomic radius (Å)', 'diff_Covalent radius (Å)', 'diff_Zunger radius (Å)', 'diff_Crystal radius (Å)', 'diff_Metallic valence', 'diff_Number of s electrons', 'diff_Number of d electrons', 'diff_First ionization energy (kJ/mol)', 'diff_Polarizability', 'diff_Boiling point (K)', 'diff_Specific heat (J/g•K)', 'diff_Heat of fusion (kJ/mol)', 'diff_Heat of vaporization (kJ/mol)', 'diff_Heat atomization (kJ/mol)', 'diff_Cohesive energy (eV)', 'max_Atomic number', 'max_Family number', 'max_L quantum number', 'max_Covalent radius (Å)', 'max_Zunger radius (Å)', 'max_Ionic radius (Å)', 'max_Pauling EN', 'max_Martynov-Batsanov EN', 'max_Gordy EN', 'max_Mulliken EN', 'max_Allen EN', 'max_Number of valence electrons', 'max_Number of d electrons', 'max_Number of outer shell electrons', 'max_Polarizability', 'max_Melting point (K)', 'max_Boiling point (K)', 'max_Specific heat (J/g•K)', 'max_Heat of vaporization (kJ/mol)', 'max_Thermal conductivity (W/m•K)', 'max_Heat atomization (kJ/mol)', 'max_Cohesive energy (eV)', 'min_Atomic weight', 'min_Period number', 'min_L quantum number', 'min_Mendeleev number', 'min_Atomic radius (Å)', 'min_Covalent radius (Å)', 'min_Ionic radius (Å)', 'min_Crystal radius (Å)', 'min_Pauling EN', 'min_Martynov-Batsanov EN', 'min_Gordy EN', 'min_Allen EN', 'min_Number of d electrons', 'min_Number of outer shell electrons', 'min_First ionization energy (kJ/mol)', 'min_Polarizability', 'min_Specific heat (J/g•K)', 'min_Heat atomization (kJ/mol)', 'min_Cohesive energy (eV)']"
   ]
  },
  {
   "cell_type": "markdown",
   "metadata": {},
   "source": [
    "Now we want to find the optimal set of hyperparameters for the XGBClassifier algo"
   ]
  },
  {
   "cell_type": "code",
   "execution_count": 212,
   "metadata": {},
   "outputs": [
    {
     "name": "stdout",
     "output_type": "stream",
     "text": [
      "Types [1, 2, 2, 2, 1] and maxint [2, 4, 2, 2, 2] detected\n",
      "--- Evolve in 405 possible combinations ---\n",
      "gen\tnevals\tavg     \tmin     \tmax     \tstd       \n",
      "0  \t50    \t0.972233\t0.968429\t0.976129\t0.00169769\n",
      "1  \t35    \t0.973701\t0.969713\t0.976129\t0.00156652\n",
      "2  \t30    \t0.974671\t0.972023\t0.976129\t0.00115639\n",
      "3  \t20    \t0.975524\t0.973306\t0.976643\t0.000747021\n",
      "4  \t26    \t0.975606\t0.969456\t0.976643\t0.00113281 \n",
      "5  \t29    \t0.975873\t0.972279\t0.977413\t0.000899457\n",
      "Best individual is: {'min_child_weight': 1, 'gamma': 0.5, 'subsample': 0.8, 'colsample_bytree': 1.0, 'max_depth': 5}\n",
      "with fitness: 0.9774127310061602\n"
     ]
    }
   ],
   "source": [
    "from sklearn.model_selection import StratifiedKFold\n",
    "\n",
    "paramgrid = {\n",
    "        'min_child_weight': [1, 5, 10],\n",
    "        'gamma': [0.5, 1, 1.5, 2, 5],\n",
    "        'subsample': [0.6, 0.8, 1.0],\n",
    "        'colsample_bytree': [0.6, 0.8, 1.0],\n",
    "        'max_depth': [3, 4, 5]\n",
    "        }\n",
    "\n",
    "\n",
    "random.seed(1)\n",
    "\n",
    "from evolutionary_search import EvolutionaryAlgorithmSearchCV\n",
    "estimator = XGBClassifier(learning_rate=0.02, n_estimators=600, objective='binary:logistic', silent=True, nthread=1)\n",
    "cv = EvolutionaryAlgorithmSearchCV(estimator=estimator,\n",
    "                                   params=paramgrid,\n",
    "                                   scoring=\"accuracy\",\n",
    "                                   cv=StratifiedKFold(n_splits=20, random_state = random.randint(1,100)),\n",
    "                                   verbose=1,\n",
    "                                   population_size=50,\n",
    "                                   gene_mutation_prob=0.10,\n",
    "                                   gene_crossover_prob=0.5,\n",
    "                                   tournament_size=3,\n",
    "                                   generations_number=5,\n",
    "                                   n_jobs=4)\n",
    "cv.fit(X, y)"
   ]
  },
  {
   "cell_type": "markdown",
   "metadata": {},
   "source": [
    "## Regression model for band gap prediction"
   ]
  },
  {
   "cell_type": "code",
   "execution_count": 213,
   "metadata": {},
   "outputs": [],
   "source": [
    "features = []\n",
    "for col in df_merge.columns:\n",
    "    features+=[str(col)]\n",
    "to_remove = ['Eg', 'Composition', 'metal', 'bg>4']\n",
    "for i in to_remove:\n",
    "    features.remove(i)\n",
    "    \n",
    "X = df_merge[features]\n",
    "y = df_merge['Eg']\n",
    "#y=np.log(1+y)"
   ]
  },
  {
   "cell_type": "markdown",
   "metadata": {},
   "source": [
    "### Genetic algo for features selection"
   ]
  },
  {
   "cell_type": "code",
   "execution_count": 214,
   "metadata": {},
   "outputs": [],
   "source": [
    "def rmse_cv_custom(X, y, test_size=0.1, n_shuffle=40):\n",
    "    rand_num = random.randint(1,100)\n",
    "    RMSE = []\n",
    "    for i in range(0, n_shuffle):\n",
    "        X_train, X_test, y_train, y_test = train_test_split(X, y, test_size=test_size, random_state=random.randint(1,100))\n",
    "        model = XGBRegressor().fit(X_train, y_train)\n",
    "        rmse = np.sqrt(mean_squared_error(abs(model.predict(X_test)), y_test))\n",
    "        RMSE.append(rmse)\n",
    "    return statistics.mean(RMSE)"
   ]
  },
  {
   "cell_type": "code",
   "execution_count": 215,
   "metadata": {},
   "outputs": [],
   "source": [
    "def getFitness(individual, X ,y):\n",
    "    # Parse our feature columns that we don't use\n",
    "    cols = [index for index in range(len(individual)) if individual[index] == 0]\n",
    "    X_Parsed = X.drop(X.columns[cols], axis=1)\n",
    "    \n",
    "    # Calculate RMSE \n",
    "    RMSE = rmse_cv_custom(X_Parsed, y)\n",
    "    # Return calculated accuracy as fitness\n",
    "    return (RMSE,)\n",
    "\n",
    "# Change the weight to -1. With this condition the algorithm will be searching for a minimum\n",
    "creator.create(\"FitnessMin\", base.Fitness, weights=(-1.0,))\n",
    "creator.create(\"Individual\", list, fitness=creator.FitnessMin)\n",
    "\n",
    "# Create Toolbox\n",
    "toolbox = base.Toolbox()\n",
    "toolbox.register(\"attr_bool\", random.randint, 0, 1)\n",
    "toolbox.register(\"individual\", tools.initRepeat, creator.Individual, toolbox.attr_bool, len(df_merge.columns) - len(to_remove))\n",
    "toolbox.register(\"population\", tools.initRepeat, list, toolbox.individual)\n",
    "\n",
    "# Continue filling toolbox...\n",
    "toolbox.register(\"evaluate\", getFitness, X=X, y=y)\n",
    "toolbox.register(\"mate\", tools.cxOnePoint)\n",
    "toolbox.register(\"mutate\", tools.mutFlipBit, indpb=0.05)\n",
    "toolbox.register(\"select\", tools.selTournament, tournsize=3)"
   ]
  },
  {
   "cell_type": "code",
   "execution_count": null,
   "metadata": {},
   "outputs": [],
   "source": [
    "'''\n",
    "First, we will apply XGBoost regressor using all the features to acquire a baseline accuracy.\n",
    "'''\n",
    "individual = [1 for i in range(len(X.columns))]\n",
    "Accuracy = getFitness(individual, X, y)\n",
    "print('\\nAccuracy with all features: \\t' + str(Accuracy[0]))\n",
    "\n",
    "'''\n",
    "Now, we will apply a genetic algorithm to choose a subset of features that gives a better accuracy than the baseline.\n",
    "'''\n",
    "hof = getHof(numGen = 40)\n",
    "AccuracyList, individualList = getMetrics(hof)\n",
    "# Get a list of subsets that performed best on validation data \n",
    "minValAccSubsetIndicies = [index for index in range(len(AccuracyList)) if AccuracyList[index] == min(AccuracyList)]\n",
    "minValIndividuals = [individualList[index] for index in maxValAccSubsetIndicies]\n",
    "minValSubsets = [[list(features)[index] for index in range(len(individual)) if individual[index] == 1] for individual in minValIndividuals]\n",
    "\n",
    "print('\\n---Optimal Feature Subset(s)---\\n')\n",
    "for index in range(len(maxValAccSubsetIndicies)):\n",
    "    #print('Percentile: \\t\\t\\t' + str(percentileList[maxValAccSubsetIndicies[index]]))\n",
    "    print('Accuracy: \\t\\t' + str(AccuracyList[minValAccSubsetIndicies[index]]))\n",
    "    print('Individual: \\t' + str(minValIndividuals[index]))\n",
    "    print('Number Features In Subset: \\t' + str(len(minValSubsets[index])))\n",
    "    print('Feature Subset: ' + str(minValSubsets[index]))"
   ]
  },
  {
   "cell_type": "code",
   "execution_count": 193,
   "metadata": {},
   "outputs": [],
   "source": [
    "features_optimal_bg = ['avg_Group number', 'avg_Family number', 'avg_L quantum number', 'avg_Mendeleev number', 'avg_Covalent radius (Å)', 'avg_Ionic radius (Å)', 'avg_Crystal radius (Å)', 'avg_Martynov-Batsanov EN', 'avg_Allen EN', 'avg_Metallic valence', 'avg_Number of valence electrons', 'avg_Number of s electrons', 'avg_Number of d electrons', 'avg_Melting point (K)', 'avg_Specific heat (J/g•K)', 'avg_Heat atomization (kJ/mol)', 'avg_Cohesive energy (eV)', 'diff_Period number', 'diff_Group number', 'diff_Covalent radius (Å)', 'diff_Zunger radius (Å)', 'diff_Ionic radius (Å)', 'diff_Crystal radius (Å)', 'diff_Martynov-Batsanov EN', 'diff_Gordy EN', 'diff_Mulliken EN', 'diff_Allen EN', 'diff_Metallic valence', 'diff_Number of valence electrons', 'diff_Number of d electrons', 'diff_First ionization energy (kJ/mol)', 'diff_Melting point (K)', 'diff_Boiling point (K)', 'diff_Density (g/mL)', 'diff_Heat of vaporization (kJ/mol)', 'diff_Heat atomization (kJ/mol)', 'diff_Cohesive energy (eV)', 'max_Atomic number', 'max_Group number', 'max_L quantum number', 'max_Zunger radius (Å)', 'max_Martynov-Batsanov EN', 'max_Mulliken EN', 'max_Metallic valence', 'max_Number of s electrons', 'max_Number of p electrons', 'max_Number of d electrons', 'max_Number of outer shell electrons', 'max_First ionization energy (kJ/mol)', 'max_Melting point (K)', 'max_Boiling point (K)', 'max_Density (g/mL)', 'max_Specific heat (J/g•K)', 'max_Thermal conductivity (W/m•K)', 'max_Heat atomization (kJ/mol)', 'min_Atomic number', 'min_Atomic weight', 'min_Period number', 'min_Mendeleev number', 'min_Atomic radius (Å)', 'min_Zunger radius (Å)', 'min_Pauling EN', 'min_Martynov-Batsanov EN', 'min_Gordy EN', 'min_Metallic valence', 'min_Number of valence electrons', 'min_Number of s electrons', 'min_Number of p electrons', 'min_Number of d electrons', 'min_Number of outer shell electrons', 'min_Boiling point (K)', 'min_Specific heat (J/g•K)', 'min_Heat of fusion (kJ/mol)', 'min_Thermal conductivity (W/m•K)', 'min_Heat atomization (kJ/mol)']"
   ]
  },
  {
   "cell_type": "code",
   "execution_count": 195,
   "metadata": {},
   "outputs": [
    {
     "data": {
      "text/plain": [
       "0.41287642993796936"
      ]
     },
     "execution_count": 195,
     "metadata": {},
     "output_type": "execute_result"
    }
   ],
   "source": [
    "model = XGBRegressor()\n",
    "X_reg = df_merge[features_optimal_bg]\n",
    "y_reg = df_merge['Eg']\n",
    "rmse_cv_custom(X_reg, y_reg).mean()"
   ]
  },
  {
   "cell_type": "markdown",
   "metadata": {},
   "source": [
    "We thus have RMSE about 0.41 eV"
   ]
  },
  {
   "cell_type": "markdown",
   "metadata": {},
   "source": [
    "It can be shown that including 'bg>4' in to the features set improves the result. However, it can be generated only when we know experimental band gap values. \n",
    "Classification ML model for 'bg>4' constructed previously demonstrates great performance. So, we are going to use it in order to, first, predict 'bg>4' and then use it as a feature \n",
    "in the regression model for the band gap value prediction. To do so, we define a function\n"
   ]
  },
  {
   "cell_type": "code",
   "execution_count": 183,
   "metadata": {},
   "outputs": [],
   "source": [
    "# The following function takes X_train and X_test, then predicts 'bg>4' (more precisely, the probability to belong to a class with bg>4), \n",
    "# add it to X_train and X_test and returns X_train and X_test with predicted 'bg>4'\n",
    "def generate_bg4(X_train, X_test):\n",
    "    X_train_bg4 = X_train[features_optimal_bg4]\n",
    "    scaler = preprocessing.StandardScaler().fit(X_train_bg4)\n",
    "    X_train_bg4 = scaler.transform(X_train_bg4)\n",
    "    y_train_bg4=np.array(X_train['bg>4'].values)\n",
    "    #test data\n",
    "    X_test_bg4 = X_test[features_optimal_bg4]\n",
    "    X_test_bg4 = scaler.transform(X_test_bg4)\n",
    "    y_test_bg4 = np.array(X_test['bg>4'].values)\n",
    "    \n",
    "    #ML model with the optimal set of hyperparameters found above\n",
    "    xgb_bg4 = XGBClassifier(min_child_weight = 1, gamma = 0.5, subsample = 0.8, colsample_bytree = 1.0, max_depth = 2).fit(X_train_bg4, y_train_bg4)\n",
    "\n",
    "    #train data\n",
    "    y_train_bg4=xgb_bg4.predict_proba(X_train_bg4)\n",
    "    y_train_bg4=y_train_bg4[:,[1]]\n",
    "    scaler_bg4 = preprocessing.StandardScaler().fit(y_train_bg4)\n",
    "    y_train_bg4 = scaler_bg4.transform(y_train_bg4)\n",
    "    y_train_bg4 = np.reshape(y_train_bg4, y_train_bg4.shape[0])\n",
    "    y_train_bg4=y_train_bg4[:, np.newaxis]\n",
    "    \n",
    "    #test data\n",
    "    y_test_bg4=xgb_bg4.predict_proba(X_test_bg4)\n",
    "    y_test_bg4=y_test_bg4[:,[1]]\n",
    "    y_test_bg4 = scaler_bg4.transform(y_test_bg4)\n",
    "    y_test_bg4 = np.reshape(y_test_bg4, y_test_bg4.shape[0])                        \n",
    "    y_test_bg4=y_test_bg4[:, np.newaxis]\n",
    "    \n",
    "    #combine train data into one X_train and preprocess it with the Standart scaler\n",
    "    features_optimal_bg_without_bg4 = [i for i in features_optimal_bg if i!='bg>4']\n",
    "    X_train_without_bg4 = X_train[features_optimal_bg_without_bg4]\n",
    "    scaler = preprocessing.StandardScaler().fit(X_train_without_bg4)\n",
    "    X_train_without_bg4 = scaler.transform(X_train_without_bg4)\n",
    "    train_bg4 = X_train['bg>4'].values\n",
    "    train_bg4=train_bg4[:, np.newaxis]\n",
    "    X_train = np.append(X_train_without_bg4, y_train_bg4, axis =1)\n",
    "    \n",
    "    #combine test data into one X_test preprocessed with Standart scaler\n",
    "    X_test_without_bg4 = X_test[features_optimal_bg_without_bg4]\n",
    "    X_test_without_bg4 = scaler.transform(X_test_without_bg4)\n",
    "    X_test = np.append(X_test_without_bg4, y_test_bg4, axis =1)\n",
    "    \n",
    "    return X_train, X_test\n",
    "    \n",
    "# This function returns avaraged RMSE of n_shuf cycles    \n",
    "def custom_cv(X, y, test_size=0.1, n_shuf=30):\n",
    "    acc = []\n",
    "    rand_num = random.randint(1,60)\n",
    "    for i in range(0, n_shuf):\n",
    "        X_train, X_test, y_train, y_test = train_test_split(X, y, test_size=test_size,)\n",
    "        X_train, X_test = generate_bg4(X_train, X_test) \n",
    "            \n",
    "        clf = XGBRegressor().fit(X_train, y_train)\n",
    "        predicted_Y=clf.predict(X_test)\n",
    "        ac = np.sqrt(mean_squared_error(predicted_Y, y_test))\n",
    "        acc.append(ac)\n",
    "            \n",
    "    return statistics.mean(acc)"
   ]
  },
  {
   "cell_type": "markdown",
   "metadata": {},
   "source": [
    "We add one more feature 'bg>4' into the features_optimal_bg set. It is used only for training. The above code predicts 'bg>4' for the test data and it used then in the regression algorithm"
   ]
  },
  {
   "cell_type": "code",
   "execution_count": 175,
   "metadata": {},
   "outputs": [],
   "source": [
    "features_optimal_bg = features_optimal_bg.append('bg>4')"
   ]
  },
  {
   "cell_type": "code",
   "execution_count": 186,
   "metadata": {},
   "outputs": [],
   "source": [
    "X = df_merge[features_optimal_bg]\n",
    "y = df_merge['Eg']"
   ]
  },
  {
   "cell_type": "markdown",
   "metadata": {},
   "source": [
    "Unfortunately, this strategy doesn't show to work giving higher RMSE"
   ]
  },
  {
   "cell_type": "code",
   "execution_count": 187,
   "metadata": {},
   "outputs": [
    {
     "data": {
      "text/plain": [
       "0.4688650097434145"
      ]
     },
     "execution_count": 187,
     "metadata": {},
     "output_type": "execute_result"
    }
   ],
   "source": [
    "custom_cv(X, y, test_size=0.1, n_shuf=30)"
   ]
  },
  {
   "cell_type": "markdown",
   "metadata": {},
   "source": [
    "### Results"
   ]
  },
  {
   "cell_type": "markdown",
   "metadata": {},
   "source": [
    "We thus have improved the resluts obtained by [Zhuo et al.](https://pubs.acs.org/doi/10.1021/acs.jpclett.8b00124). In this paper the achived RMSE is 0.45 eV, while here we have RMSE=0.41 eV."
   ]
  }
 ],
 "metadata": {
  "kernelspec": {
   "display_name": "Python 3",
   "language": "python",
   "name": "python3"
  },
  "language_info": {
   "codemirror_mode": {
    "name": "ipython",
    "version": 3
   },
   "file_extension": ".py",
   "mimetype": "text/x-python",
   "name": "python",
   "nbconvert_exporter": "python",
   "pygments_lexer": "ipython3",
   "version": "3.6.9"
  }
 },
 "nbformat": 4,
 "nbformat_minor": 4
}
